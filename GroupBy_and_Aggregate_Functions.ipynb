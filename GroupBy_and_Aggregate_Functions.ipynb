{
  "nbformat": 4,
  "nbformat_minor": 0,
  "metadata": {
    "anaconda-cloud": {},
    "kernelspec": {
      "display_name": "Python [conda root]",
      "language": "python",
      "name": "conda-root-py"
    },
    "language_info": {
      "codemirror_mode": {
        "name": "ipython",
        "version": 3
      },
      "file_extension": ".py",
      "mimetype": "text/x-python",
      "name": "python",
      "nbconvert_exporter": "python",
      "pygments_lexer": "ipython3",
      "version": "3.5.3"
    },
    "colab": {
      "name": "GroupBy_and_Aggregate_Functions.ipynb",
      "provenance": [],
      "include_colab_link": true
    }
  },
  "cells": [
    {
      "cell_type": "markdown",
      "metadata": {
        "id": "view-in-github",
        "colab_type": "text"
      },
      "source": [
        "<a href=\"https://colab.research.google.com/github/NapoliD/Spark/blob/main/GroupBy_and_Aggregate_Functions.ipynb\" target=\"_parent\"><img src=\"https://colab.research.google.com/assets/colab-badge.svg\" alt=\"Open In Colab\"/></a>"
      ]
    },
    {
      "cell_type": "markdown",
      "metadata": {
        "id": "5luVuMXQ24HB"
      },
      "source": [
        "# GroupBy and Aggregate Functions\n",
        "\n"
      ]
    },
    {
      "cell_type": "code",
      "metadata": {
        "id": "z8P9OUsK24HD"
      },
      "source": [
        "from pyspark.sql import SparkSession"
      ],
      "execution_count": null,
      "outputs": []
    },
    {
      "cell_type": "code",
      "metadata": {
        "id": "-mkpqHbZ24HM"
      },
      "source": [
        "\n",
        "spark = SparkSession.builder.appName(\"groupbyagg\").getOrCreate()"
      ],
      "execution_count": null,
      "outputs": []
    },
    {
      "cell_type": "markdown",
      "metadata": {
        "id": "vZdj0I3Q24HS"
      },
      "source": [
        "Read in the customer sales data"
      ]
    },
    {
      "cell_type": "code",
      "metadata": {
        "id": "AltbaHXg24HT"
      },
      "source": [
        "df = spark.read.csv('sales_info.csv',inferSchema=True,header=True)"
      ],
      "execution_count": null,
      "outputs": []
    },
    {
      "cell_type": "code",
      "metadata": {
        "id": "WAU1Wy0A24HZ",
        "outputId": "680d6df4-9419-4c89-afbb-4a6d665cc304"
      },
      "source": [
        "df.printSchema()"
      ],
      "execution_count": null,
      "outputs": [
        {
          "output_type": "stream",
          "text": [
            "root\n",
            " |-- Company: string (nullable = true)\n",
            " |-- Person: string (nullable = true)\n",
            " |-- Sales: double (nullable = true)\n",
            "\n"
          ],
          "name": "stdout"
        }
      ]
    },
    {
      "cell_type": "code",
      "metadata": {
        "id": "7j4_2jn224Hh",
        "outputId": "f44d5914-d508-47de-dbd7-078ca4f2053e"
      },
      "source": [
        "df.show()"
      ],
      "execution_count": null,
      "outputs": [
        {
          "output_type": "stream",
          "text": [
            "+-------+-------+-----+\n",
            "|Company| Person|Sales|\n",
            "+-------+-------+-----+\n",
            "|   GOOG|    Sam|200.0|\n",
            "|   GOOG|Charlie|120.0|\n",
            "|   GOOG|  Frank|340.0|\n",
            "|   MSFT|   Tina|600.0|\n",
            "|   MSFT|    Amy|124.0|\n",
            "|   MSFT|Vanessa|243.0|\n",
            "|     FB|   Carl|870.0|\n",
            "|     FB|  Sarah|350.0|\n",
            "|   APPL|   John|250.0|\n",
            "|   APPL|  Linda|130.0|\n",
            "|   APPL|   Mike|750.0|\n",
            "|   APPL|  Chris|350.0|\n",
            "+-------+-------+-----+\n",
            "\n"
          ],
          "name": "stdout"
        }
      ]
    },
    {
      "cell_type": "markdown",
      "metadata": {
        "id": "IzcyHZbY24Hp"
      },
      "source": [
        "Let's group together by company!"
      ]
    },
    {
      "cell_type": "code",
      "metadata": {
        "id": "v4xrzL0y24Hq",
        "outputId": "104c581a-e162-4006-f5ea-640e6bd8056e"
      },
      "source": [
        "df.groupBy(\"Company\")"
      ],
      "execution_count": null,
      "outputs": [
        {
          "output_type": "execute_result",
          "data": {
            "text/plain": [
              "<pyspark.sql.group.GroupedData at 0x109915f28>"
            ]
          },
          "metadata": {
            "tags": []
          },
          "execution_count": 9
        }
      ]
    },
    {
      "cell_type": "markdown",
      "metadata": {
        "id": "daO7UMUf24Hx"
      },
      "source": [
        "This returns a GroupedData object, off of which you can all various methods"
      ]
    },
    {
      "cell_type": "code",
      "metadata": {
        "id": "YypNX3MV24Hy",
        "outputId": "87adcda3-7602-4e2f-a60e-35c28d07ab9a"
      },
      "source": [
        "# Mean\n",
        "df.groupBy(\"Company\").mean().show()"
      ],
      "execution_count": null,
      "outputs": [
        {
          "output_type": "stream",
          "text": [
            "+-------+-----------------+\n",
            "|Company|       avg(Sales)|\n",
            "+-------+-----------------+\n",
            "|   APPL|            370.0|\n",
            "|   GOOG|            220.0|\n",
            "|     FB|            610.0|\n",
            "|   MSFT|322.3333333333333|\n",
            "+-------+-----------------+\n",
            "\n"
          ],
          "name": "stdout"
        }
      ]
    },
    {
      "cell_type": "code",
      "metadata": {
        "id": "T9iSr6cL24H4",
        "outputId": "579ec134-ffee-4293-d836-8f2829fbe58b"
      },
      "source": [
        "# Count\n",
        "df.groupBy(\"Company\").count().show()"
      ],
      "execution_count": null,
      "outputs": [
        {
          "output_type": "stream",
          "text": [
            "+-------+-----+\n",
            "|Company|count|\n",
            "+-------+-----+\n",
            "|   APPL|    4|\n",
            "|   GOOG|    3|\n",
            "|     FB|    2|\n",
            "|   MSFT|    3|\n",
            "+-------+-----+\n",
            "\n"
          ],
          "name": "stdout"
        }
      ]
    },
    {
      "cell_type": "code",
      "metadata": {
        "id": "R0Mi4m_024H-",
        "outputId": "3396564f-c061-4171-b615-9c7135d5a83b"
      },
      "source": [
        "# Max\n",
        "df.groupBy(\"Company\").max().show()"
      ],
      "execution_count": null,
      "outputs": [
        {
          "output_type": "stream",
          "text": [
            "+-------+----------+\n",
            "|Company|max(Sales)|\n",
            "+-------+----------+\n",
            "|   APPL|     750.0|\n",
            "|   GOOG|     340.0|\n",
            "|     FB|     870.0|\n",
            "|   MSFT|     600.0|\n",
            "+-------+----------+\n",
            "\n"
          ],
          "name": "stdout"
        }
      ]
    },
    {
      "cell_type": "code",
      "metadata": {
        "id": "BkOHgPnR24ID",
        "outputId": "eec7805f-0921-4efc-a53c-a09c7c711917"
      },
      "source": [
        "# Min\n",
        "df.groupBy(\"Company\").min().show()"
      ],
      "execution_count": null,
      "outputs": [
        {
          "output_type": "stream",
          "text": [
            "+-------+----------+\n",
            "|Company|min(Sales)|\n",
            "+-------+----------+\n",
            "|   APPL|     130.0|\n",
            "|   GOOG|     120.0|\n",
            "|     FB|     350.0|\n",
            "|   MSFT|     124.0|\n",
            "+-------+----------+\n",
            "\n"
          ],
          "name": "stdout"
        }
      ]
    },
    {
      "cell_type": "code",
      "metadata": {
        "id": "d8UmXfm024IK",
        "outputId": "7f2e8992-45ef-4c98-9e53-dd827ef931aa"
      },
      "source": [
        "# Sum\n",
        "df.groupBy(\"Company\").sum().show()"
      ],
      "execution_count": null,
      "outputs": [
        {
          "output_type": "stream",
          "text": [
            "+-------+----------+\n",
            "|Company|sum(Sales)|\n",
            "+-------+----------+\n",
            "|   APPL|    1480.0|\n",
            "|   GOOG|     660.0|\n",
            "|     FB|    1220.0|\n",
            "|   MSFT|     967.0|\n",
            "+-------+----------+\n",
            "\n"
          ],
          "name": "stdout"
        }
      ]
    },
    {
      "cell_type": "markdown",
      "metadata": {
        "id": "PnnyzWCJ24IQ"
      },
      "source": [
        "other methods:\n",
        "http://spark.apache.org/docs/latest/api/python/pyspark.sql.html#pyspark-sql-module\n",
        "\n"
      ]
    },
    {
      "cell_type": "code",
      "metadata": {
        "id": "vPvCkIMM24IR",
        "outputId": "2766df6b-a6da-4c3d-b2a0-35ffe9f02923"
      },
      "source": [
        "# Max sales across everything\n",
        "df.agg({'Sales':'max'}).show()"
      ],
      "execution_count": null,
      "outputs": [
        {
          "output_type": "stream",
          "text": [
            "+----------+\n",
            "|max(Sales)|\n",
            "+----------+\n",
            "|     870.0|\n",
            "+----------+\n",
            "\n"
          ],
          "name": "stdout"
        }
      ]
    },
    {
      "cell_type": "code",
      "metadata": {
        "id": "HkcLdssi24IY"
      },
      "source": [
        "# Could have done this on the group by object as well:"
      ],
      "execution_count": null,
      "outputs": []
    },
    {
      "cell_type": "code",
      "metadata": {
        "id": "z7Bz4OZK24Ih"
      },
      "source": [
        "grouped = df.groupBy(\"Company\")"
      ],
      "execution_count": null,
      "outputs": []
    },
    {
      "cell_type": "code",
      "metadata": {
        "id": "0ZNJ9iho24Iq",
        "outputId": "6f9c7f60-a207-42c8-abfb-64079e5b6af5"
      },
      "source": [
        "grouped.agg({\"Sales\":'max'}).show()"
      ],
      "execution_count": null,
      "outputs": [
        {
          "output_type": "stream",
          "text": [
            "+-------+----------+\n",
            "|Company|max(Sales)|\n",
            "+-------+----------+\n",
            "|   APPL|     750.0|\n",
            "|   GOOG|     340.0|\n",
            "|     FB|     870.0|\n",
            "|   MSFT|     600.0|\n",
            "+-------+----------+\n",
            "\n"
          ],
          "name": "stdout"
        }
      ]
    },
    {
      "cell_type": "markdown",
      "metadata": {
        "id": "BQjcLjPF24Ix"
      },
      "source": [
        "## Functions\n",
        " documentation for the full list available:\n",
        "http://spark.apache.org/docs/latest/api/python/pyspark.sql.html#module-pyspark.sql.functions"
      ]
    },
    {
      "cell_type": "code",
      "metadata": {
        "id": "05gplCM824Iy"
      },
      "source": [
        "from pyspark.sql.functions import countDistinct, avg,stddev"
      ],
      "execution_count": null,
      "outputs": []
    },
    {
      "cell_type": "code",
      "metadata": {
        "id": "ivlmHxIc24I4",
        "outputId": "abd119c9-c256-43aa-84c6-9d10d15a70ca"
      },
      "source": [
        "df.select(countDistinct(\"Sales\")).show()"
      ],
      "execution_count": null,
      "outputs": [
        {
          "output_type": "stream",
          "text": [
            "+---------------------+\n",
            "|count(DISTINCT Sales)|\n",
            "+---------------------+\n",
            "|                   11|\n",
            "+---------------------+\n",
            "\n"
          ],
          "name": "stdout"
        }
      ]
    },
    {
      "cell_type": "markdown",
      "metadata": {
        "id": "zinGZYSB24JI"
      },
      "source": [
        "Often you will want to change the name, use the .alias() method for this:"
      ]
    },
    {
      "cell_type": "code",
      "metadata": {
        "id": "W_Rbe_H-24JJ",
        "outputId": "53cd662d-2c22-42ac-ab47-f01814f91b24"
      },
      "source": [
        "df.select(countDistinct(\"Sales\").alias(\"Distinct Sales\")).show()"
      ],
      "execution_count": null,
      "outputs": [
        {
          "output_type": "stream",
          "text": [
            "+--------------+\n",
            "|Distinct Sales|\n",
            "+--------------+\n",
            "|            11|\n",
            "+--------------+\n",
            "\n"
          ],
          "name": "stdout"
        }
      ]
    },
    {
      "cell_type": "code",
      "metadata": {
        "id": "1RFVjqjI24JP",
        "outputId": "1d89e4b6-08c2-48ab-fd7e-1003c16c5f4d"
      },
      "source": [
        "df.select(avg('Sales')).show()"
      ],
      "execution_count": null,
      "outputs": [
        {
          "output_type": "stream",
          "text": [
            "+-----------------+\n",
            "|       avg(Sales)|\n",
            "+-----------------+\n",
            "|360.5833333333333|\n",
            "+-----------------+\n",
            "\n"
          ],
          "name": "stdout"
        }
      ]
    },
    {
      "cell_type": "code",
      "metadata": {
        "id": "rvnf8pXk24JV",
        "outputId": "ef94b6eb-c21d-468e-e65e-da7650b9a77e"
      },
      "source": [
        "df.select(stddev(\"Sales\")).show()"
      ],
      "execution_count": null,
      "outputs": [
        {
          "output_type": "stream",
          "text": [
            "+------------------+\n",
            "|stddev_samp(Sales)|\n",
            "+------------------+\n",
            "|250.08742410799007|\n",
            "+------------------+\n",
            "\n"
          ],
          "name": "stdout"
        }
      ]
    },
    {
      "cell_type": "markdown",
      "metadata": {
        "id": "5oLowWLq24Jc"
      },
      "source": [
        "That is a lot of precision for digits! Let's use the format_number to fix that!"
      ]
    },
    {
      "cell_type": "code",
      "metadata": {
        "id": "C3ad1TVx24Jd"
      },
      "source": [
        "from pyspark.sql.functions import format_number"
      ],
      "execution_count": null,
      "outputs": []
    },
    {
      "cell_type": "code",
      "metadata": {
        "id": "UhktLQi-24Jl"
      },
      "source": [
        "sales_std = df.select(stddev(\"Sales\").alias('std'))"
      ],
      "execution_count": null,
      "outputs": []
    },
    {
      "cell_type": "code",
      "metadata": {
        "id": "ohEC6MHm24Jx",
        "outputId": "66af96f4-c875-4f83-b568-dfa2df5ed446"
      },
      "source": [
        "sales_std.show()"
      ],
      "execution_count": null,
      "outputs": [
        {
          "output_type": "stream",
          "text": [
            "+------------------+\n",
            "|               std|\n",
            "+------------------+\n",
            "|250.08742410799007|\n",
            "+------------------+\n",
            "\n"
          ],
          "name": "stdout"
        }
      ]
    },
    {
      "cell_type": "code",
      "metadata": {
        "id": "5eUTQcvI24J4",
        "outputId": "fa8bfd1a-79c7-4130-b027-24ac77cdb62b"
      },
      "source": [
        "# format_number(\"col_name\",decimal places)\n",
        "sales_std.select(format_number('std',2)).show()"
      ],
      "execution_count": null,
      "outputs": [
        {
          "output_type": "stream",
          "text": [
            "+---------------------+\n",
            "|format_number(std, 2)|\n",
            "+---------------------+\n",
            "|               250.09|\n",
            "+---------------------+\n",
            "\n"
          ],
          "name": "stdout"
        }
      ]
    },
    {
      "cell_type": "markdown",
      "metadata": {
        "id": "y_oMPYDA24J_"
      },
      "source": [
        "## Order By\n",
        "\n",
        "You can easily sort with the orderBy method:"
      ]
    },
    {
      "cell_type": "code",
      "metadata": {
        "id": "sPHXmuFW24KA",
        "outputId": "a89e8e8d-ff48-4d08-9b57-3b511093a7ca"
      },
      "source": [
        "# OrderBy\n",
        "# Ascending\n",
        "df.orderBy(\"Sales\").show()"
      ],
      "execution_count": null,
      "outputs": [
        {
          "output_type": "stream",
          "text": [
            "+-------+-------+-----+\n",
            "|Company| Person|Sales|\n",
            "+-------+-------+-----+\n",
            "|   GOOG|Charlie|120.0|\n",
            "|   MSFT|    Amy|124.0|\n",
            "|   APPL|  Linda|130.0|\n",
            "|   GOOG|    Sam|200.0|\n",
            "|   MSFT|Vanessa|243.0|\n",
            "|   APPL|   John|250.0|\n",
            "|   GOOG|  Frank|340.0|\n",
            "|     FB|  Sarah|350.0|\n",
            "|   APPL|  Chris|350.0|\n",
            "|   MSFT|   Tina|600.0|\n",
            "|   APPL|   Mike|750.0|\n",
            "|     FB|   Carl|870.0|\n",
            "+-------+-------+-----+\n",
            "\n"
          ],
          "name": "stdout"
        }
      ]
    },
    {
      "cell_type": "code",
      "metadata": {
        "id": "YduihVAl24KH",
        "outputId": "cfc8cd9d-ffc2-436f-cb10-7166019d6d01"
      },
      "source": [
        "# Descending call off the column itself.\n",
        "df.orderBy(df[\"Sales\"].desc()).show()"
      ],
      "execution_count": null,
      "outputs": [
        {
          "output_type": "stream",
          "text": [
            "+-------+-------+-----+\n",
            "|Company| Person|Sales|\n",
            "+-------+-------+-----+\n",
            "|     FB|   Carl|870.0|\n",
            "|   APPL|   Mike|750.0|\n",
            "|   MSFT|   Tina|600.0|\n",
            "|     FB|  Sarah|350.0|\n",
            "|   APPL|  Chris|350.0|\n",
            "|   GOOG|  Frank|340.0|\n",
            "|   APPL|   John|250.0|\n",
            "|   MSFT|Vanessa|243.0|\n",
            "|   GOOG|    Sam|200.0|\n",
            "|   APPL|  Linda|130.0|\n",
            "|   MSFT|    Amy|124.0|\n",
            "|   GOOG|Charlie|120.0|\n",
            "+-------+-------+-----+\n",
            "\n"
          ],
          "name": "stdout"
        }
      ]
    }
  ]
}