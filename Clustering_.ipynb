{
  "nbformat": 4,
  "nbformat_minor": 0,
  "metadata": {
    "anaconda-cloud": {},
    "kernelspec": {
      "display_name": "Python [conda root]",
      "language": "python",
      "name": "conda-root-py"
    },
    "language_info": {
      "codemirror_mode": {
        "name": "ipython",
        "version": 3
      },
      "file_extension": ".py",
      "mimetype": "text/x-python",
      "name": "python",
      "nbconvert_exporter": "python",
      "pygments_lexer": "ipython3",
      "version": "3.5.3"
    },
    "colab": {
      "name": "Clustering_.ipynb",
      "provenance": [],
      "include_colab_link": true
    }
  },
  "cells": [
    {
      "cell_type": "markdown",
      "metadata": {
        "id": "view-in-github",
        "colab_type": "text"
      },
      "source": [
        "<a href=\"https://colab.research.google.com/github/NapoliD/Spark/blob/main/Clustering_.ipynb\" target=\"_parent\"><img src=\"https://colab.research.google.com/assets/colab-badge.svg\" alt=\"Open In Colab\"/></a>"
      ]
    },
    {
      "cell_type": "code",
      "metadata": {
        "collapsed": true,
        "id": "kl2ZlW7RCwHs"
      },
      "source": [
        "from pyspark.sql import SparkSession\n",
        "spark = SparkSession.builder.appName('123').getOrCreate()"
      ],
      "execution_count": null,
      "outputs": []
    },
    {
      "cell_type": "code",
      "metadata": {
        "collapsed": true,
        "id": "5MbDudzYCwHs"
      },
      "source": [
        "from pyspark.ml.clustering import KMeans\n",
        "\n",
        "# Loads data.\n",
        "dataset = spark.read.csv(\"hack_data.csv\",header=True,inferSchema=True)"
      ],
      "execution_count": null,
      "outputs": []
    },
    {
      "cell_type": "code",
      "metadata": {
        "id": "5lbhxlxiCwHt",
        "outputId": "908c8fe7-5455-4908-8085-80611114b874"
      },
      "source": [
        "dataset.head()"
      ],
      "execution_count": null,
      "outputs": [
        {
          "output_type": "execute_result",
          "data": {
            "text/plain": [
              "Row(Session_Connection_Time=8.0, Bytes Transferred=391.09, Kali_Trace_Used=1, Servers_Corrupted=2.96, Pages_Corrupted=7.0, Location='Slovenia', WPM_Typing_Speed=72.37)"
            ]
          },
          "metadata": {
            "tags": []
          },
          "execution_count": 175
        }
      ]
    },
    {
      "cell_type": "code",
      "metadata": {
        "id": "ZaQFJB_kCwHu",
        "outputId": "25116fa6-edc8-440c-da1a-5e75b06565ce"
      },
      "source": [
        "dataset.describe().show()"
      ],
      "execution_count": null,
      "outputs": [
        {
          "output_type": "stream",
          "text": [
            "+-------+-----------------------+------------------+------------------+-----------------+------------------+------------------+\n",
            "|summary|Session_Connection_Time| Bytes Transferred|   Kali_Trace_Used|Servers_Corrupted|   Pages_Corrupted|  WPM_Typing_Speed|\n",
            "+-------+-----------------------+------------------+------------------+-----------------+------------------+------------------+\n",
            "|  count|                    334|               334|               334|              334|               334|               334|\n",
            "|   mean|     30.008982035928145| 607.2452694610777|0.5119760479041916|5.258502994011977|10.838323353293413|57.342395209580864|\n",
            "| stddev|     14.088200614636158|286.33593163576757|0.5006065264451406| 2.30190693339697|  3.06352633036022| 13.41106336843464|\n",
            "|    min|                    1.0|              10.0|                 0|              1.0|               6.0|              40.0|\n",
            "|    max|                   60.0|            1330.5|                 1|             10.0|              15.0|              75.0|\n",
            "+-------+-----------------------+------------------+------------------+-----------------+------------------+------------------+\n",
            "\n"
          ],
          "name": "stdout"
        }
      ]
    },
    {
      "cell_type": "code",
      "metadata": {
        "id": "MZveG9JOCwHu",
        "outputId": "1b628d75-a4e6-4d71-8b1c-209d3a2f2cb7"
      },
      "source": [
        "df.columns"
      ],
      "execution_count": null,
      "outputs": [
        {
          "output_type": "execute_result",
          "data": {
            "text/plain": [
              "Index(['Session_Connection_Time', 'Bytes Transferred', 'Kali_Trace_Used',\n",
              "       'Servers_Corrupted', 'Pages_Corrupted', 'Location', 'WPM_Typing_Speed'],\n",
              "      dtype='object')"
            ]
          },
          "metadata": {
            "tags": []
          },
          "execution_count": 177
        }
      ]
    },
    {
      "cell_type": "code",
      "metadata": {
        "collapsed": true,
        "id": "R3Ha4pCuCwHu"
      },
      "source": [
        "from pyspark.ml.linalg import Vectors\n",
        "from pyspark.ml.feature import VectorAssembler"
      ],
      "execution_count": null,
      "outputs": []
    },
    {
      "cell_type": "code",
      "metadata": {
        "collapsed": true,
        "id": "Ty-4t7ExCwHu"
      },
      "source": [
        "feat_cols = ['Session_Connection_Time', 'Bytes Transferred', 'Kali_Trace_Used',\n",
        "             'Servers_Corrupted', 'Pages_Corrupted','WPM_Typing_Speed']"
      ],
      "execution_count": null,
      "outputs": []
    },
    {
      "cell_type": "code",
      "metadata": {
        "collapsed": true,
        "id": "jOB2gM65CwHu"
      },
      "source": [
        "vec_assembler = VectorAssembler(inputCols = feat_cols, outputCol='features')"
      ],
      "execution_count": null,
      "outputs": []
    },
    {
      "cell_type": "code",
      "metadata": {
        "collapsed": true,
        "id": "6mUqHZ5VCwHu"
      },
      "source": [
        "final_data = vec_assembler.transform(dataset)"
      ],
      "execution_count": null,
      "outputs": []
    },
    {
      "cell_type": "code",
      "metadata": {
        "collapsed": true,
        "id": "cmD2hcbtCwHu"
      },
      "source": [
        "from pyspark.ml.feature import StandardScaler"
      ],
      "execution_count": null,
      "outputs": []
    },
    {
      "cell_type": "code",
      "metadata": {
        "collapsed": true,
        "id": "jgAq_v2xCwHu"
      },
      "source": [
        "scaler = StandardScaler(inputCol=\"features\", outputCol=\"scaledFeatures\", withStd=True, withMean=False)"
      ],
      "execution_count": null,
      "outputs": []
    },
    {
      "cell_type": "code",
      "metadata": {
        "collapsed": true,
        "id": "tc-xE_XOCwHu"
      },
      "source": [
        "# Compute summary statistics by fitting the StandardScaler\n",
        "scalerModel = scaler.fit(final_data)"
      ],
      "execution_count": null,
      "outputs": []
    },
    {
      "cell_type": "code",
      "metadata": {
        "collapsed": true,
        "id": "2heUCloJCwHu"
      },
      "source": [
        "# Normalize each feature to have unit standard deviation.\n",
        "cluster_final_data = scalerModel.transform(final_data)"
      ],
      "execution_count": null,
      "outputs": []
    },
    {
      "cell_type": "markdown",
      "metadata": {
        "id": "B2Os05l5CwHu"
      },
      "source": [
        "** Time to find out whether its 2 or 3! **"
      ]
    },
    {
      "cell_type": "code",
      "metadata": {
        "collapsed": true,
        "id": "K9MhLfzACwHu"
      },
      "source": [
        "kmeans3 = KMeans(featuresCol='scaledFeatures',k=3)\n",
        "kmeans2 = KMeans(featuresCol='scaledFeatures',k=2)"
      ],
      "execution_count": null,
      "outputs": []
    },
    {
      "cell_type": "code",
      "metadata": {
        "collapsed": true,
        "id": "ZoN0HJmVCwHv"
      },
      "source": [
        "model_k3 = kmeans3.fit(cluster_final_data)\n",
        "model_k2 = kmeans2.fit(cluster_final_data)"
      ],
      "execution_count": null,
      "outputs": []
    },
    {
      "cell_type": "code",
      "metadata": {
        "collapsed": true,
        "id": "drh9heR5CwHv"
      },
      "source": [
        "wssse_k3 = model_k3.computeCost(cluster_final_data)\n",
        "wssse_k2 = model_k2.computeCost(cluster_final_data)"
      ],
      "execution_count": null,
      "outputs": []
    },
    {
      "cell_type": "code",
      "metadata": {
        "id": "qPQ4nEhLCwHv",
        "outputId": "294586b3-0b8e-4177-9b92-4c34e88f389c"
      },
      "source": [
        "print(\"With K=3\")\n",
        "print(\"Within Set Sum of Squared Errors = \" + str(wssse_k3))\n",
        "print('--'*30)\n",
        "print(\"With K=2\")\n",
        "print(\"Within Set Sum of Squared Errors = \" + str(wssse_k2))"
      ],
      "execution_count": null,
      "outputs": [
        {
          "output_type": "stream",
          "text": [
            "With K=3\n",
            "Within Set Sum of Squared Errors = 434.1492898715845\n",
            "------------------------------------------------------------\n",
            "With K=2\n",
            "Within Set Sum of Squared Errors = 601.7707512676716\n"
          ],
          "name": "stdout"
        }
      ]
    },
    {
      "cell_type": "markdown",
      "metadata": {
        "id": "-kuYP1awCwHv"
      },
      "source": [
        "Not much to be gained from the WSSSE, after all, we would expect that as K increases, the WSSSE decreases. We could however continue the analysis by seeing the drop from K=3 to K=4 to check if the clustering favors even or odd numbers. This won't be substantial, but its worth a look:"
      ]
    },
    {
      "cell_type": "code",
      "metadata": {
        "id": "KkIr4g-cCwHv",
        "outputId": "236d678e-7b24-40e7-fc5f-bc8e8c5e091e"
      },
      "source": [
        "for k in range(2,9):\n",
        "    kmeans = KMeans(featuresCol='scaledFeatures',k=k)\n",
        "    model = kmeans.fit(cluster_final_data)\n",
        "    wssse = model.computeCost(cluster_final_data)\n",
        "    print(\"With K={}\".format(k))\n",
        "    print(\"Within Set Sum of Squared Errors = \" + str(wssse))\n",
        "    print('--'*30)"
      ],
      "execution_count": null,
      "outputs": [
        {
          "output_type": "stream",
          "text": [
            "With K=2\n",
            "Within Set Sum of Squared Errors = 601.7707512676716\n",
            "------------------------------------------------------------\n",
            "With K=3\n",
            "Within Set Sum of Squared Errors = 434.1492898715845\n",
            "------------------------------------------------------------\n",
            "With K=4\n",
            "Within Set Sum of Squared Errors = 267.1336116887891\n",
            "------------------------------------------------------------\n",
            "With K=5\n",
            "Within Set Sum of Squared Errors = 246.44966476509273\n",
            "------------------------------------------------------------\n",
            "With K=6\n",
            "Within Set Sum of Squared Errors = 227.11523291903796\n",
            "------------------------------------------------------------\n",
            "With K=7\n",
            "Within Set Sum of Squared Errors = 208.95468005311722\n",
            "------------------------------------------------------------\n",
            "With K=8\n",
            "Within Set Sum of Squared Errors = 196.20268561839072\n",
            "------------------------------------------------------------\n"
          ],
          "name": "stdout"
        }
      ]
    },
    {
      "cell_type": "code",
      "metadata": {
        "id": "AfdUPnBJCwHv",
        "outputId": "ca59eed8-3619-4088-a944-712deb3d34cf"
      },
      "source": [
        "model_k3.transform(cluster_final_data).groupBy('prediction').count().show()"
      ],
      "execution_count": null,
      "outputs": [
        {
          "output_type": "stream",
          "text": [
            "+----------+-----+\n",
            "|prediction|count|\n",
            "+----------+-----+\n",
            "|         1|   83|\n",
            "|         2|   84|\n",
            "|         0|  167|\n",
            "+----------+-----+\n",
            "\n"
          ],
          "name": "stdout"
        }
      ]
    },
    {
      "cell_type": "code",
      "metadata": {
        "id": "PsYOEmRuCwHv",
        "outputId": "f595af19-0dc6-41f3-99b4-d705016294b7"
      },
      "source": [
        "model_k2.transform(cluster_final_data).groupBy('prediction').count().show()"
      ],
      "execution_count": null,
      "outputs": [
        {
          "output_type": "stream",
          "text": [
            "+----------+-----+\n",
            "|prediction|count|\n",
            "+----------+-----+\n",
            "|         1|  167|\n",
            "|         0|  167|\n",
            "+----------+-----+\n",
            "\n"
          ],
          "name": "stdout"
        }
      ]
    },
    {
      "cell_type": "markdown",
      "metadata": {
        "id": "B2LGkYcJCwHv"
      },
      "source": [
        "________"
      ]
    }
  ]
}