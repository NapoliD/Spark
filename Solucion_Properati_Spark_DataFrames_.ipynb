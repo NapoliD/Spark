{
  "nbformat": 4,
  "nbformat_minor": 0,
  "metadata": {
    "anaconda-cloud": {},
    "kernelspec": {
      "display_name": "Python [conda root]",
      "language": "python",
      "name": "conda-root-py"
    },
    "language_info": {
      "codemirror_mode": {
        "name": "ipython",
        "version": 3
      },
      "file_extension": ".py",
      "mimetype": "text/x-python",
      "name": "python",
      "nbconvert_exporter": "python",
      "pygments_lexer": "ipython3",
      "version": "3.5.3"
    },
    "colab": {
      "name": "Solucion Properati Spark DataFrames .ipynb",
      "provenance": [],
      "include_colab_link": true
    }
  },
  "cells": [
    {
      "cell_type": "markdown",
      "metadata": {
        "id": "view-in-github",
        "colab_type": "text"
      },
      "source": [
        "<a href=\"https://colab.research.google.com/github/NapoliD/Spark/blob/main/Solucion_Properati_Spark_DataFrames_.ipynb\" target=\"_parent\"><img src=\"https://colab.research.google.com/assets/colab-badge.svg\" alt=\"Open In Colab\"/></a>"
      ]
    },
    {
      "cell_type": "markdown",
      "metadata": {
        "id": "NCG0h-DVBETY"
      },
      "source": [
        "#### Start a simple Spark Session"
      ]
    },
    {
      "cell_type": "code",
      "metadata": {
        "id": "vsS3jEntCXQZ",
        "colab": {
          "base_uri": "https://localhost:8080/"
        },
        "outputId": "6d21ba7b-dd42-4e73-c679-0f12ff6f89d5"
      },
      "source": [
        "pip install pyspark"
      ],
      "execution_count": null,
      "outputs": [
        {
          "output_type": "stream",
          "text": [
            "Collecting pyspark\n",
            "\u001b[?25l  Downloading https://files.pythonhosted.org/packages/f0/26/198fc8c0b98580f617cb03cb298c6056587b8f0447e20fa40c5b634ced77/pyspark-3.0.1.tar.gz (204.2MB)\n",
            "\u001b[K     |████████████████████████████████| 204.2MB 67kB/s \n",
            "\u001b[?25hCollecting py4j==0.10.9\n",
            "\u001b[?25l  Downloading https://files.pythonhosted.org/packages/9e/b6/6a4fb90cd235dc8e265a6a2067f2a2c99f0d91787f06aca4bcf7c23f3f80/py4j-0.10.9-py2.py3-none-any.whl (198kB)\n",
            "\u001b[K     |████████████████████████████████| 204kB 38.0MB/s \n",
            "\u001b[?25hBuilding wheels for collected packages: pyspark\n",
            "  Building wheel for pyspark (setup.py) ... \u001b[?25l\u001b[?25hdone\n",
            "  Created wheel for pyspark: filename=pyspark-3.0.1-py2.py3-none-any.whl size=204612243 sha256=b65531849c043a7f6f9a56b31012ba49ef4c89c0208c33b8ae5bf9645cfd75d1\n",
            "  Stored in directory: /root/.cache/pip/wheels/5e/bd/07/031766ca628adec8435bb40f0bd83bb676ce65ff4007f8e73f\n",
            "Successfully built pyspark\n",
            "Installing collected packages: py4j, pyspark\n",
            "Successfully installed py4j-0.10.9 pyspark-3.0.1\n"
          ],
          "name": "stdout"
        }
      ]
    },
    {
      "cell_type": "code",
      "metadata": {
        "id": "931eybDFef3Q",
        "colab": {
          "base_uri": "https://localhost:8080/"
        },
        "outputId": "5b9a978e-3487-4ead-839f-b961e5de2ad1"
      },
      "source": [
        "from google.colab import drive\n",
        "drive.mount('/content/drive/') "
      ],
      "execution_count": null,
      "outputs": [
        {
          "output_type": "stream",
          "text": [
            "Mounted at /content/drive/\n"
          ],
          "name": "stdout"
        }
      ]
    },
    {
      "cell_type": "code",
      "metadata": {
        "id": "-oiR6XWBe3jx"
      },
      "source": [
        "import os\n",
        "os.chdir('/content/drive/My Drive/GOOGLE_COLAB/Spark/Properati')"
      ],
      "execution_count": null,
      "outputs": []
    },
    {
      "cell_type": "code",
      "metadata": {
        "id": "7nn3yh2s_JDi"
      },
      "source": [
        "import pandas as pd\n",
        "df = pd.read_csv ('Properati.csv')\n",
        "df.to_json ('Properati.json')"
      ],
      "execution_count": null,
      "outputs": []
    },
    {
      "cell_type": "code",
      "metadata": {
        "id": "eF5GR01tBETa"
      },
      "source": [
        "from pyspark.sql import SparkSession\n",
        "spark = SparkSession.builder.appName(\"properati\").getOrCreate()"
      ],
      "execution_count": null,
      "outputs": []
    },
    {
      "cell_type": "markdown",
      "metadata": {
        "id": "Z5Oum3bwBETj"
      },
      "source": [
        "#### Load  CSV File, have Spark infer the data types."
      ]
    },
    {
      "cell_type": "code",
      "metadata": {
        "id": "ONerCqbqn05x",
        "colab": {
          "base_uri": "https://localhost:8080/"
        },
        "outputId": "7bd15b60-257f-4b2d-a10f-f384670291a0"
      },
      "source": [
        "cases = spark.read.load(\"Properati - Properati.csv\",format=\"csv\", sep=\",\", inferSchema=\"true\", header=\"false\")\n",
        "cases.show(100)"
      ],
      "execution_count": null,
      "outputs": [
        {
          "output_type": "stream",
          "text": [
            "+--------------------+--------------------+--------------------+--------------------+--------------------+--------------------+\n",
            "|                 _c0|                 _c1|                 _c2|                 _c3|                 _c4|                 _c5|\n",
            "+--------------------+--------------------+--------------------+--------------------+--------------------+--------------------+\n",
            "|\"{\"\"tracking_date...|\"\"country_code\"\":...|\"\"seller_id\"\":\"\"8...|\"\"seller_sk\"\":\"\"A...|  \"\"counter1\"\":\"\"1\"\"|\"\"counter2\"\":\"\"1\"\"}\"|\n",
            "|\"{\"\"tracking_date...|\"\"country_code\"\":...|\"\"seller_id\"\":\"\"2...|\"\"seller_sk\"\":\"\"A...|\"\"counter2\"\":\"\"1\"\"}\"|                null|\n",
            "|\"{\"\"tracking_date...|\"\"country_code\"\":...|\"\"seller_id\"\":\"\"3...|\"\"seller_sk\"\":\"\"A...|\"\"counter2\"\":\"\"1\"\"}\"|                null|\n",
            "|\"{\"\"tracking_date...|\"\"country_code\"\":...|\"\"seller_id\"\":\"\"2...|\"\"seller_sk\"\":\"\"A...|\"\"counter2\"\":\"\"1\"\"}\"|                null|\n",
            "|\"{\"\"tracking_date...|\"\"country_code\"\":...|\"\"seller_id\"\":\"\"2...|\"\"seller_sk\"\":\"\"A...|\"\"counter2\"\":\"\"1\"\"}\"|                null|\n",
            "|\"{\"\"tracking_date...|\"\"country_code\"\":...|\"\"seller_id\"\":\"\"8...|\"\"seller_sk\"\":\"\"A...|\"\"counter2\"\":\"\"2\"\"}\"|                null|\n",
            "|\"{\"\"tracking_date...|\"\"country_code\"\":...|\"\"seller_id\"\":\"\"2...|\"\"seller_sk\"\":\"\"A...|\"\"counter2\"\":\"\"1\"\"}\"|                null|\n",
            "|\"{\"\"tracking_date...|\"\"country_code\"\":...|\"\"seller_id\"\":\"\"2...|\"\"seller_sk\"\":\"\"A...|\"\"counter2\"\":\"\"1\"\"}\"|                null|\n",
            "|\"{\"\"tracking_date...|\"\"country_code\"\":...|\"\"seller_id\"\":\"\"2...|\"\"seller_sk\"\":\"\"A...|\"\"counter2\"\":\"\"1\"\"}\"|                null|\n",
            "|\"{\"\"tracking_date...|\"\"country_code\"\":...|\"\"seller_id\"\":\"\"6...|\"\"seller_sk\"\":\"\"A...|\"\"counter2\"\":\"\"1\"\"}\"|                null|\n",
            "|\"{\"\"tracking_date...|\"\"country_code\"\":...|\"\"seller_id\"\":\"\"6...|\"\"seller_sk\"\":\"\"A...|\"\"counter2\"\":\"\"1\"\"}\"|                null|\n",
            "|\"{\"\"tracking_date...|\"\"country_code\"\":...|\"\"seller_id\"\":\"\"1...|\"\"seller_sk\"\":\"\"A...|\"\"counter2\"\":\"\"2\"\"}\"|                null|\n",
            "|\"{\"\"tracking_date...|\"\"country_code\"\":...|\"\"seller_id\"\":\"\"2...|\"\"seller_sk\"\":\"\"A...|\"\"counter2\"\":\"\"1\"\"}\"|                null|\n",
            "|\"{\"\"tracking_date...|\"\"country_code\"\":...|\"\"seller_id\"\":\"\"2...|\"\"seller_sk\"\":\"\"A...|\"\"counter2\"\":\"\"1\"\"}\"|                null|\n",
            "|\"{\"\"tracking_date...|\"\"country_code\"\":...|\"\"seller_id\"\":\"\"2...|\"\"seller_sk\"\":\"\"A...|\"\"counter2\"\":\"\"2\"\"}\"|                null|\n",
            "|\"{\"\"tracking_date...|\"\"country_code\"\":...|\"\"seller_id\"\":\"\"2...|\"\"seller_sk\"\":\"\"A...|\"\"counter2\"\":\"\"2\"\"}\"|                null|\n",
            "|\"{\"\"tracking_date...|\"\"country_code\"\":...|\"\"seller_id\"\":\"\"2...|\"\"seller_sk\"\":\"\"A...|\"\"counter2\"\":\"\"1\"\"}\"|                null|\n",
            "|\"{\"\"tracking_date...|\"\"country_code\"\":...|\"\"seller_id\"\":\"\"3...|\"\"seller_sk\"\":\"\"A...|\"\"counter2\"\":\"\"1\"\"}\"|                null|\n",
            "|\"{\"\"tracking_date...|\"\"country_code\"\":...|\"\"seller_id\"\":\"\"6...|\"\"seller_sk\"\":\"\"A...|\"\"counter2\"\":\"\"1\"\"}\"|                null|\n",
            "|\"{\"\"tracking_date...|\"\"country_code\"\":...|\"\"seller_id\"\":\"\"2...|\"\"seller_sk\"\":\"\"A...|\"\"counter2\"\":\"\"1\"\"}\"|                null|\n",
            "|\"{\"\"tracking_date...|\"\"country_code\"\":...|\"\"seller_id\"\":\"\"2...|\"\"seller_sk\"\":\"\"A...|\"\"counter2\"\":\"\"1\"\"}\"|                null|\n",
            "|\"{\"\"tracking_date...|\"\"country_code\"\":...|\"\"seller_id\"\":\"\"3...|\"\"seller_sk\"\":\"\"A...|\"\"counter2\"\":\"\"1\"\"}\"|                null|\n",
            "|\"{\"\"tracking_date...|\"\"country_code\"\":...|\"\"seller_id\"\":\"\"4...|\"\"seller_sk\"\":\"\"A...|\"\"counter2\"\":\"\"1\"\"}\"|                null|\n",
            "|\"{\"\"tracking_date...|\"\"country_code\"\":...|\"\"seller_id\"\":\"\"2...|\"\"seller_sk\"\":\"\"A...|\"\"counter2\"\":\"\"1\"\"}\"|                null|\n",
            "|\"{\"\"tracking_date...|\"\"country_code\"\":...|\"\"seller_id\"\":\"\"2...|\"\"seller_sk\"\":\"\"A...|\"\"counter2\"\":\"\"1\"\"}\"|                null|\n",
            "|\"{\"\"tracking_date...|\"\"country_code\"\":...|\"\"seller_id\"\":\"\"8...|\"\"seller_sk\"\":\"\"A...|\"\"counter2\"\":\"\"2\"\"}\"|                null|\n",
            "|\"{\"\"tracking_date...|\"\"country_code\"\":...|\"\"seller_id\"\":\"\"8...|\"\"seller_sk\"\":\"\"A...|\"\"counter2\"\":\"\"1\"\"}\"|                null|\n",
            "|\"{\"\"tracking_date...|\"\"country_code\"\":...|\"\"seller_id\"\":\"\"8...|\"\"seller_sk\"\":\"\"A...|\"\"counter2\"\":\"\"1\"\"}\"|                null|\n",
            "|\"{\"\"tracking_date...|\"\"country_code\"\":...|\"\"seller_id\"\":\"\"8...|\"\"seller_sk\"\":\"\"A...|\"\"counter2\"\":\"\"1\"\"}\"|                null|\n",
            "|\"{\"\"tracking_date...|\"\"country_code\"\":...|\"\"seller_id\"\":\"\"3...|\"\"seller_sk\"\":\"\"A...|\"\"counter2\"\":\"\"1\"\"}\"|                null|\n",
            "|\"{\"\"tracking_date...|\"\"country_code\"\":...|\"\"seller_id\"\":\"\"3...|\"\"seller_sk\"\":\"\"A...|\"\"counter2\"\":\"\"1\"\"}\"|                null|\n",
            "|\"{\"\"tracking_date...|\"\"country_code\"\":...|\"\"seller_id\"\":\"\"1...|\"\"seller_sk\"\":\"\"A...|\"\"counter2\"\":\"\"1\"\"}\"|                null|\n",
            "|\"{\"\"tracking_date...|\"\"country_code\"\":...|\"\"seller_id\"\":\"\"8...|\"\"seller_sk\"\":\"\"A...|\"\"counter2\"\":\"\"1\"\"}\"|                null|\n",
            "|\"{\"\"tracking_date...|\"\"country_code\"\":...|\"\"seller_id\"\":\"\"8...|\"\"seller_sk\"\":\"\"A...|\"\"counter2\"\":\"\"1\"\"}\"|                null|\n",
            "|\"{\"\"tracking_date...|\"\"country_code\"\":...|\"\"seller_id\"\":\"\"8...|\"\"seller_sk\"\":\"\"A...|\"\"counter2\"\":\"\"1\"\"}\"|                null|\n",
            "|\"{\"\"tracking_date...|\"\"country_code\"\":...|\"\"seller_id\"\":\"\"2...|\"\"seller_sk\"\":\"\"A...|\"\"counter2\"\":\"\"1\"\"}\"|                null|\n",
            "|\"{\"\"tracking_date...|\"\"country_code\"\":...|\"\"seller_id\"\":\"\"2...|\"\"seller_sk\"\":\"\"A...|\"\"counter2\"\":\"\"1\"\"}\"|                null|\n",
            "|\"{\"\"tracking_date...|\"\"country_code\"\":...|\"\"seller_id\"\":\"\"2...|\"\"seller_sk\"\":\"\"A...|\"\"counter2\"\":\"\"1\"\"}\"|                null|\n",
            "|\"{\"\"tracking_date...|\"\"country_code\"\":...|\"\"seller_id\"\":\"\"1...|\"\"seller_sk\"\":\"\"A...|\"\"counter2\"\":\"\"1\"\"}\"|                null|\n",
            "|\"{\"\"tracking_date...|\"\"country_code\"\":...|\"\"seller_id\"\":\"\"1...|\"\"seller_sk\"\":\"\"A...|\"\"counter2\"\":\"\"1\"\"}\"|                null|\n",
            "|\"{\"\"tracking_date...|\"\"country_code\"\":...|\"\"seller_id\"\":\"\"2...|\"\"seller_sk\"\":\"\"A...|\"\"counter2\"\":\"\"4\"\"}\"|                null|\n",
            "|\"{\"\"tracking_date...|\"\"country_code\"\":...|\"\"seller_id\"\":\"\"8...|\"\"seller_sk\"\":\"\"A...|\"\"counter2\"\":\"\"3\"\"}\"|                null|\n",
            "|\"{\"\"tracking_date...|\"\"country_code\"\":...|\"\"seller_id\"\":\"\"8...|\"\"seller_sk\"\":\"\"A...|\"\"counter2\"\":\"\"2\"\"}\"|                null|\n",
            "|\"{\"\"tracking_date...|\"\"country_code\"\":...|\"\"seller_id\"\":\"\"8...|\"\"seller_sk\"\":\"\"A...|\"\"counter2\"\":\"\"1\"\"}\"|                null|\n",
            "|\"{\"\"tracking_date...|\"\"country_code\"\":...|\"\"seller_id\"\":\"\"9...|\"\"seller_sk\"\":\"\"A...|\"\"counter2\"\":\"\"1\"\"}\"|                null|\n",
            "|\"{\"\"tracking_date...|\"\"country_code\"\":...|\"\"seller_id\"\":\"\"1...|\"\"seller_sk\"\":\"\"A...|\"\"counter2\"\":\"\"1\"\"}\"|                null|\n",
            "|\"{\"\"tracking_date...|\"\"country_code\"\":...|\"\"seller_id\"\":\"\"2...|\"\"seller_sk\"\":\"\"A...|\"\"counter2\"\":\"\"1\"\"}\"|                null|\n",
            "|\"{\"\"tracking_date...|\"\"country_code\"\":...|\"\"seller_id\"\":\"\"2...|\"\"seller_sk\"\":\"\"A...|\"\"counter2\"\":\"\"1\"\"}\"|                null|\n",
            "|\"{\"\"tracking_date...|\"\"country_code\"\":...|\"\"seller_id\"\":\"\"2...|\"\"seller_sk\"\":\"\"A...|\"\"counter2\"\":\"\"3\"\"}\"|                null|\n",
            "|\"{\"\"tracking_date...|\"\"country_code\"\":...|\"\"seller_id\"\":\"\"5...|\"\"seller_sk\"\":\"\"A...|\"\"counter2\"\":\"\"1\"\"}\"|                null|\n",
            "|\"{\"\"tracking_date...|\"\"country_code\"\":...|\"\"seller_id\"\":\"\"1...|\"\"seller_sk\"\":\"\"A...|\"\"counter2\"\":\"\"2\"\"}\"|                null|\n",
            "|\"{\"\"tracking_date...|\"\"country_code\"\":...|\"\"seller_id\"\":\"\"2...|\"\"seller_sk\"\":\"\"A...|\"\"counter2\"\":\"\"1\"\"}\"|                null|\n",
            "|\"{\"\"tracking_date...|\"\"country_code\"\":...|\"\"seller_id\"\":\"\"1...|\"\"seller_sk\"\":\"\"A...|\"\"counter2\"\":\"\"2\"\"}\"|                null|\n",
            "|\"{\"\"tracking_date...|\"\"country_code\"\":...|\"\"seller_id\"\":\"\"8...|\"\"seller_sk\"\":\"\"A...|\"\"counter2\"\":\"\"1\"\"}\"|                null|\n",
            "|\"{\"\"tracking_date...|\"\"country_code\"\":...|\"\"seller_id\"\":\"\"2...|\"\"seller_sk\"\":\"\"A...|\"\"counter2\"\":\"\"5\"\"}\"|                null|\n",
            "|\"{\"\"tracking_date...|\"\"country_code\"\":...|\"\"seller_id\"\":\"\"8...|\"\"seller_sk\"\":\"\"A...|\"\"counter2\"\":\"\"4\"\"}\"|                null|\n",
            "|\"{\"\"tracking_date...|\"\"country_code\"\":...|\"\"seller_id\"\":\"\"1...|\"\"seller_sk\"\":\"\"A...|\"\"counter2\"\":\"\"1\"\"}\"|                null|\n",
            "|\"{\"\"tracking_date...|\"\"country_code\"\":...|\"\"seller_id\"\":\"\"2...|\"\"seller_sk\"\":\"\"A...|\"\"counter2\"\":\"\"1\"\"}\"|                null|\n",
            "|\"{\"\"tracking_date...|\"\"country_code\"\":...|\"\"seller_id\"\":\"\"2...|\"\"seller_sk\"\":\"\"A...|\"\"counter2\"\":\"\"1\"\"}\"|                null|\n",
            "|\"{\"\"tracking_date...|\"\"country_code\"\":...|\"\"seller_id\"\":\"\"4...|\"\"seller_sk\"\":\"\"A...|\"\"counter2\"\":\"\"1\"\"}\"|                null|\n",
            "|\"{\"\"tracking_date...|\"\"country_code\"\":...|\"\"seller_id\"\":\"\"5...|\"\"seller_sk\"\":\"\"A...|\"\"counter2\"\":\"\"2\"\"}\"|                null|\n",
            "|\"{\"\"tracking_date...|\"\"country_code\"\":...|\"\"seller_id\"\":\"\"2...|\"\"seller_sk\"\":\"\"A...|\"\"counter2\"\":\"\"5\"\"}\"|                null|\n",
            "|\"{\"\"tracking_date...|\"\"country_code\"\":...|\"\"seller_id\"\":\"\"2...|\"\"seller_sk\"\":\"\"A...|\"\"counter2\"\":\"\"1\"\"}\"|                null|\n",
            "|\"{\"\"tracking_date...|\"\"country_code\"\":...|\"\"seller_id\"\":\"\"8...|\"\"seller_sk\"\":\"\"A...|\"\"counter2\"\":\"\"2\"\"}\"|                null|\n",
            "|\"{\"\"tracking_date...|\"\"country_code\"\":...|\"\"seller_id\"\":\"\"1...|\"\"seller_sk\"\":\"\"A...|\"\"counter2\"\":\"\"1\"\"}\"|                null|\n",
            "|\"{\"\"tracking_date...|\"\"country_code\"\":...|\"\"seller_id\"\":\"\"2...|\"\"seller_sk\"\":\"\"A...|\"\"counter2\"\":\"\"1\"\"}\"|                null|\n",
            "|\"{\"\"tracking_date...|\"\"country_code\"\":...|\"\"seller_id\"\":\"\"2...|\"\"seller_sk\"\":\"\"A...|\"\"counter2\"\":\"\"1\"\"}\"|                null|\n",
            "|\"{\"\"tracking_date...|\"\"country_code\"\":...|\"\"seller_id\"\":\"\"1...|\"\"seller_sk\"\":\"\"A...|\"\"counter2\"\":\"\"2\"\"}\"|                null|\n",
            "|\"{\"\"tracking_date...|\"\"country_code\"\":...|\"\"seller_id\"\":\"\"1...|\"\"seller_sk\"\":\"\"A...|\"\"counter2\"\":\"\"1\"\"}\"|                null|\n",
            "|\"{\"\"tracking_date...|\"\"country_code\"\":...|\"\"seller_id\"\":\"\"2...|\"\"seller_sk\"\":\"\"A...|\"\"counter2\"\":\"\"4\"\"}\"|                null|\n",
            "|\"{\"\"tracking_date...|\"\"country_code\"\":...|\"\"seller_id\"\":\"\"2...|\"\"seller_sk\"\":\"\"A...|\"\"counter2\"\":\"\"1\"\"}\"|                null|\n",
            "|\"{\"\"tracking_date...|\"\"country_code\"\":...|\"\"seller_id\"\":\"\"4...|\"\"seller_sk\"\":\"\"A...|\"\"counter2\"\":\"\"3\"\"}\"|                null|\n",
            "|\"{\"\"tracking_date...|\"\"country_code\"\":...|\"\"seller_id\"\":\"\"1...|\"\"seller_sk\"\":\"\"A...|\"\"counter2\"\":\"\"1\"\"}\"|                null|\n",
            "|\"{\"\"tracking_date...|\"\"country_code\"\":...|\"\"seller_id\"\":\"\"1...|\"\"seller_sk\"\":\"\"A...|\"\"counter2\"\":\"\"1\"\"}\"|                null|\n",
            "|\"{\"\"tracking_date...|\"\"country_code\"\":...|\"\"seller_id\"\":\"\"2...|\"\"seller_sk\"\":\"\"A...|\"\"counter2\"\":\"\"1\"\"}\"|                null|\n",
            "|\"{\"\"tracking_date...|\"\"country_code\"\":...|\"\"seller_id\"\":\"\"2...|\"\"seller_sk\"\":\"\"A...|\"\"counter2\"\":\"\"1\"\"}\"|                null|\n",
            "|\"{\"\"tracking_date...|\"\"country_code\"\":...|\"\"seller_id\"\":\"\"8...|\"\"seller_sk\"\":\"\"A...|\"\"counter2\"\":\"\"1\"\"}\"|                null|\n",
            "|\"{\"\"tracking_date...|\"\"country_code\"\":...|\"\"seller_id\"\":\"\"1...|\"\"seller_sk\"\":\"\"A...|\"\"counter2\"\":\"\"1\"\"}\"|                null|\n",
            "|\"{\"\"tracking_date...|\"\"country_code\"\":...|\"\"seller_id\"\":\"\"2...|\"\"seller_sk\"\":\"\"A...|\"\"counter2\"\":\"\"1\"\"}\"|                null|\n",
            "|\"{\"\"tracking_date...|\"\"country_code\"\":...|\"\"seller_id\"\":\"\"2...|\"\"seller_sk\"\":\"\"A...|\"\"counter2\"\":\"\"1\"\"}\"|                null|\n",
            "|\"{\"\"tracking_date...|\"\"country_code\"\":...|\"\"seller_id\"\":\"\"2...|\"\"seller_sk\"\":\"\"A...|\"\"counter2\"\":\"\"17...|                null|\n",
            "|\"{\"\"tracking_date...|\"\"country_code\"\":...|\"\"seller_id\"\":\"\"4...|\"\"seller_sk\"\":\"\"A...|\"\"counter2\"\":\"\"2\"\"}\"|                null|\n",
            "|\"{\"\"tracking_date...|\"\"country_code\"\":...|\"\"seller_id\"\":\"\"2...|\"\"seller_sk\"\":\"\"A...|\"\"counter2\"\":\"\"1\"\"}\"|                null|\n",
            "|\"{\"\"tracking_date...|\"\"country_code\"\":...|\"\"seller_id\"\":\"\"3...|\"\"seller_sk\"\":\"\"A...|\"\"counter2\"\":\"\"1\"\"}\"|                null|\n",
            "|\"{\"\"tracking_date...|\"\"country_code\"\":...|\"\"seller_id\"\":\"\"8...|\"\"seller_sk\"\":\"\"A...|\"\"counter2\"\":\"\"1\"\"}\"|                null|\n",
            "|\"{\"\"tracking_date...|\"\"country_code\"\":...|\"\"seller_id\"\":\"\"8...|\"\"seller_sk\"\":\"\"A...|\"\"counter2\"\":\"\"1\"\"}\"|                null|\n",
            "|\"{\"\"tracking_date...|\"\"country_code\"\":...|\"\"seller_id\"\":\"\"8...|\"\"seller_sk\"\":\"\"A...|\"\"counter2\"\":\"\"1\"\"}\"|                null|\n",
            "|\"{\"\"tracking_date...|\"\"country_code\"\":...|\"\"seller_id\"\":\"\"6...|\"\"seller_sk\"\":\"\"A...|\"\"counter2\"\":\"\"2\"\"}\"|                null|\n",
            "|\"{\"\"tracking_date...|\"\"country_code\"\":...|\"\"seller_id\"\":\"\"8...|\"\"seller_sk\"\":\"\"A...|\"\"counter2\"\":\"\"1\"\"}\"|                null|\n",
            "|\"{\"\"tracking_date...|\"\"country_code\"\":...|\"\"seller_id\"\":\"\"2...|\"\"seller_sk\"\":\"\"A...|\"\"counter2\"\":\"\"3\"\"}\"|                null|\n",
            "|\"{\"\"tracking_date...|\"\"country_code\"\":...|\"\"seller_id\"\":\"\"2...|\"\"seller_sk\"\":\"\"A...|\"\"counter2\"\":\"\"1\"\"}\"|                null|\n",
            "|\"{\"\"tracking_date...|\"\"country_code\"\":...|\"\"seller_id\"\":\"\"2...|\"\"seller_sk\"\":\"\"A...|\"\"counter2\"\":\"\"1\"\"}\"|                null|\n",
            "|\"{\"\"tracking_date...|\"\"country_code\"\":...|\"\"seller_id\"\":\"\"2...|\"\"seller_sk\"\":\"\"A...|\"\"counter2\"\":\"\"1\"\"}\"|                null|\n",
            "|\"{\"\"tracking_date...|\"\"country_code\"\":...|\"\"seller_id\"\":\"\"3...|\"\"seller_sk\"\":\"\"A...|\"\"counter2\"\":\"\"1\"\"}\"|                null|\n",
            "|\"{\"\"tracking_date...|\"\"country_code\"\":...|\"\"seller_id\"\":\"\"1...|\"\"seller_sk\"\":\"\"A...|\"\"counter2\"\":\"\"1\"\"}\"|                null|\n",
            "|\"{\"\"tracking_date...|\"\"country_code\"\":...|\"\"seller_id\"\":\"\"8...|\"\"seller_sk\"\":\"\"A...|\"\"counter2\"\":\"\"3\"\"}\"|                null|\n",
            "|\"{\"\"tracking_date...|\"\"country_code\"\":...|\"\"seller_id\"\":\"\"8...|\"\"seller_sk\"\":\"\"A...|\"\"counter2\"\":\"\"1\"\"}\"|                null|\n",
            "|\"{\"\"tracking_date...|\"\"country_code\"\":...|\"\"seller_id\"\":\"\"1...|\"\"seller_sk\"\":\"\"A...|\"\"counter2\"\":\"\"1\"\"}\"|                null|\n",
            "|\"{\"\"tracking_date...|\"\"country_code\"\":...|\"\"seller_id\"\":\"\"2...|\"\"seller_sk\"\":\"\"A...|\"\"counter2\"\":\"\"1\"\"}\"|                null|\n",
            "|\"{\"\"tracking_date...|\"\"country_code\"\":...|\"\"seller_id\"\":\"\"2...|\"\"seller_sk\"\":\"\"A...|\"\"counter2\"\":\"\"1\"\"}\"|                null|\n",
            "+--------------------+--------------------+--------------------+--------------------+--------------------+--------------------+\n",
            "only showing top 100 rows\n",
            "\n"
          ],
          "name": "stdout"
        }
      ]
    },
    {
      "cell_type": "code",
      "metadata": {
        "id": "XtDe7q9wbR3t",
        "colab": {
          "base_uri": "https://localhost:8080/"
        },
        "outputId": "d58f0925-c8ba-4bae-afb2-e7f8a07d1523"
      },
      "source": [
        "cases.printSchema()"
      ],
      "execution_count": null,
      "outputs": [
        {
          "output_type": "stream",
          "text": [
            "root\n",
            " |-- _c0: string (nullable = true)\n",
            " |-- _c1: string (nullable = true)\n",
            " |-- _c2: string (nullable = true)\n",
            " |-- _c3: string (nullable = true)\n",
            " |-- _c4: string (nullable = true)\n",
            " |-- _c5: string (nullable = true)\n",
            "\n"
          ],
          "name": "stdout"
        }
      ]
    },
    {
      "cell_type": "code",
      "metadata": {
        "id": "rR_hC7h4XqbJ",
        "colab": {
          "base_uri": "https://localhost:8080/"
        },
        "outputId": "d7cd3548-405f-4a4b-be18-72a3227d7a86"
      },
      "source": [
        "cases = cases.withColumn('_c4', regexp_replace('_c4', '}', ''))\n",
        "cases = cases.withColumn('_c4', regexp_replace('_c4', '\"', ''))\n",
        "cases = cases.withColumn('_c5', regexp_replace('_c5', '}', ''))\n",
        "cases = cases.withColumn('_c5', regexp_replace('_c5', '\"', ''))\n",
        "cases.show()"
      ],
      "execution_count": null,
      "outputs": [
        {
          "output_type": "stream",
          "text": [
            "+--------------------+--------------------+--------------------+--------------------+----------+----------+\n",
            "|                 _c0|                 _c1|                 _c2|                 _c3|       _c4|       _c5|\n",
            "+--------------------+--------------------+--------------------+--------------------+----------+----------+\n",
            "|\"{\"\"tracking_date...|\"\"country_code\"\":...|\"\"seller_id\"\":\"\"8...|\"\"seller_sk\"\":\"\"A...|counter1:1|counter2:1|\n",
            "|\"{\"\"tracking_date...|\"\"country_code\"\":...|\"\"seller_id\"\":\"\"2...|\"\"seller_sk\"\":\"\"A...|counter2:1|      null|\n",
            "|\"{\"\"tracking_date...|\"\"country_code\"\":...|\"\"seller_id\"\":\"\"3...|\"\"seller_sk\"\":\"\"A...|counter2:1|      null|\n",
            "|\"{\"\"tracking_date...|\"\"country_code\"\":...|\"\"seller_id\"\":\"\"2...|\"\"seller_sk\"\":\"\"A...|counter2:1|      null|\n",
            "|\"{\"\"tracking_date...|\"\"country_code\"\":...|\"\"seller_id\"\":\"\"2...|\"\"seller_sk\"\":\"\"A...|counter2:1|      null|\n",
            "|\"{\"\"tracking_date...|\"\"country_code\"\":...|\"\"seller_id\"\":\"\"8...|\"\"seller_sk\"\":\"\"A...|counter2:2|      null|\n",
            "|\"{\"\"tracking_date...|\"\"country_code\"\":...|\"\"seller_id\"\":\"\"2...|\"\"seller_sk\"\":\"\"A...|counter2:1|      null|\n",
            "|\"{\"\"tracking_date...|\"\"country_code\"\":...|\"\"seller_id\"\":\"\"2...|\"\"seller_sk\"\":\"\"A...|counter2:1|      null|\n",
            "|\"{\"\"tracking_date...|\"\"country_code\"\":...|\"\"seller_id\"\":\"\"2...|\"\"seller_sk\"\":\"\"A...|counter2:1|      null|\n",
            "|\"{\"\"tracking_date...|\"\"country_code\"\":...|\"\"seller_id\"\":\"\"6...|\"\"seller_sk\"\":\"\"A...|counter2:1|      null|\n",
            "|\"{\"\"tracking_date...|\"\"country_code\"\":...|\"\"seller_id\"\":\"\"6...|\"\"seller_sk\"\":\"\"A...|counter2:1|      null|\n",
            "|\"{\"\"tracking_date...|\"\"country_code\"\":...|\"\"seller_id\"\":\"\"1...|\"\"seller_sk\"\":\"\"A...|counter2:2|      null|\n",
            "|\"{\"\"tracking_date...|\"\"country_code\"\":...|\"\"seller_id\"\":\"\"2...|\"\"seller_sk\"\":\"\"A...|counter2:1|      null|\n",
            "|\"{\"\"tracking_date...|\"\"country_code\"\":...|\"\"seller_id\"\":\"\"2...|\"\"seller_sk\"\":\"\"A...|counter2:1|      null|\n",
            "|\"{\"\"tracking_date...|\"\"country_code\"\":...|\"\"seller_id\"\":\"\"2...|\"\"seller_sk\"\":\"\"A...|counter2:2|      null|\n",
            "|\"{\"\"tracking_date...|\"\"country_code\"\":...|\"\"seller_id\"\":\"\"2...|\"\"seller_sk\"\":\"\"A...|counter2:2|      null|\n",
            "|\"{\"\"tracking_date...|\"\"country_code\"\":...|\"\"seller_id\"\":\"\"2...|\"\"seller_sk\"\":\"\"A...|counter2:1|      null|\n",
            "|\"{\"\"tracking_date...|\"\"country_code\"\":...|\"\"seller_id\"\":\"\"3...|\"\"seller_sk\"\":\"\"A...|counter2:1|      null|\n",
            "|\"{\"\"tracking_date...|\"\"country_code\"\":...|\"\"seller_id\"\":\"\"6...|\"\"seller_sk\"\":\"\"A...|counter2:1|      null|\n",
            "|\"{\"\"tracking_date...|\"\"country_code\"\":...|\"\"seller_id\"\":\"\"2...|\"\"seller_sk\"\":\"\"A...|counter2:1|      null|\n",
            "+--------------------+--------------------+--------------------+--------------------+----------+----------+\n",
            "only showing top 20 rows\n",
            "\n"
          ],
          "name": "stdout"
        }
      ]
    },
    {
      "cell_type": "code",
      "metadata": {
        "id": "fgkthNBsyVwI"
      },
      "source": [
        "### String Split of the column in pyspark\n",
        "\n",
        "from pyspark.sql.functions import split,col\n",
        "\n",
        "cases=cases.withColumn(\"tracking_date\", split(col(\"_c0\"), \":\").getItem(1)).withColumn(\"country_code\", split(col(\"_c1\"), \":\").getItem(1)).withColumn(\"seller_id\", split(col(\"_c2\"), \":\").getItem(1)).withColumn(\"seller_sk\", split(col(\"_c3\"), \":\").getItem(1))\n",
        "cases=cases.withColumn(\"counter1\", split(col(\"_c4\"), \"counter1:\").getItem(1)).withColumn(\"counter2\", split(col(\"_c4\"), \"counter2:\").getItem(1)).withColumn(\"counter2a\", split(col(\"_c5\"), \"counter2:\").getItem(1))\n",
        "#cases=cases.withColumn(\"counter2\", split(col(\"_c5\"), \"counter2:\").getItem(1))\n"
      ],
      "execution_count": null,
      "outputs": []
    },
    {
      "cell_type": "code",
      "metadata": {
        "id": "oJW0gSyyMkvo"
      },
      "source": [
        "cases.show(1000)"
      ],
      "execution_count": null,
      "outputs": []
    },
    {
      "cell_type": "code",
      "metadata": {
        "id": "R5w4xml2fBEr",
        "colab": {
          "base_uri": "https://localhost:8080/"
        },
        "outputId": "9c88ff96-fbe1-41f8-98e5-aa01155fc256"
      },
      "source": [
        "### Remove leading space of the column in pyspark\n",
        "from pyspark.sql.functions import *\n",
        "#df2 = df.withColumn('_c0', regexp_replace('_c0', 'tracking_date', ''))\n",
        "df2 = cases.withColumn('tracking_date', regexp_replace('tracking_date', '\"', ''))\n",
        "#df2 = df2.withColumn('_c0', regexp_replace('_c0', ':', ''))\n",
        "\n",
        "#df2 = df2.withColumn('_c1', regexp_replace('_c1', 'country_code', ''))\n",
        "df2 = df2.withColumn('country_code', regexp_replace('country_code', '\"', ''))\n",
        "#df2 = df2.withColumn('_c1', regexp_replace('_c1', ':', ''))\n",
        "\n",
        "#df2 = df2.withColumn('_c2', regexp_replace('_c2', 'seller_id', ''))\n",
        "df2 = df2.withColumn('seller_id', regexp_replace('seller_id', '\"', ''))\n",
        "#df2 = df2.withColumn('_c2', regexp_replace('_c2', ':', ''))\n",
        "\n",
        "#df2 = df2.withColumn('_c3', regexp_replace('_c3', 'seller_sk', ''))\n",
        "df2 = df2.withColumn('seller_sk', regexp_replace('seller_sk', '\"', ''))\n",
        "#df2 = df2.withColumn('_c3', regexp_replace('_c3', ':', ''))\n",
        "\n",
        "df2 = df2.withColumn('counter1', regexp_replace('counter1', '\"}', ''))\n",
        "df2 = df2.withColumn('counter2', regexp_replace('counter2', '\"}', ''))\n",
        "\n",
        "df2 = df2.withColumn('counter1', regexp_replace('counter1', '\"', ''))\n",
        "df2 = df2.withColumn('counter2', regexp_replace('counter2', '\"', ''))\n",
        "#df2\n",
        "#df2\n",
        "\n",
        "df2.show()\n"
      ],
      "execution_count": null,
      "outputs": [
        {
          "output_type": "stream",
          "text": [
            "+--------------------+--------------------+--------------------+--------------------+----------+----------+-------------+------------+---------+---------+--------+--------+---------+\n",
            "|                 _c0|                 _c1|                 _c2|                 _c3|       _c4|       _c5|tracking_date|country_code|seller_id|seller_sk|counter1|counter2|counter2a|\n",
            "+--------------------+--------------------+--------------------+--------------------+----------+----------+-------------+------------+---------+---------+--------+--------+---------+\n",
            "|\"{\"\"tracking_date...|\"\"country_code\"\":...|\"\"seller_id\"\":\"\"8...|\"\"seller_sk\"\":\"\"A...|counter1:1|counter2:1|   2020-10-07|          AR|   820417|AR|820417|       1|    null|        1|\n",
            "|\"{\"\"tracking_date...|\"\"country_code\"\":...|\"\"seller_id\"\":\"\"2...|\"\"seller_sk\"\":\"\"A...|counter2:1|      null|   2020-10-07|          AR|    23899| AR|23899|    null|       1|     null|\n",
            "|\"{\"\"tracking_date...|\"\"country_code\"\":...|\"\"seller_id\"\":\"\"3...|\"\"seller_sk\"\":\"\"A...|counter2:1|      null|   2020-10-07|          AR|     3178|  AR|3178|    null|       1|     null|\n",
            "|\"{\"\"tracking_date...|\"\"country_code\"\":...|\"\"seller_id\"\":\"\"2...|\"\"seller_sk\"\":\"\"A...|counter2:1|      null|   2020-10-07|          AR|    22247| AR|22247|    null|       1|     null|\n",
            "|\"{\"\"tracking_date...|\"\"country_code\"\":...|\"\"seller_id\"\":\"\"2...|\"\"seller_sk\"\":\"\"A...|counter2:1|      null|   2020-10-07|          AR|     2924|  AR|2924|    null|       1|     null|\n",
            "|\"{\"\"tracking_date...|\"\"country_code\"\":...|\"\"seller_id\"\":\"\"8...|\"\"seller_sk\"\":\"\"A...|counter2:2|      null|   2020-10-07|          AR|   820086|AR|820086|    null|       2|     null|\n",
            "|\"{\"\"tracking_date...|\"\"country_code\"\":...|\"\"seller_id\"\":\"\"2...|\"\"seller_sk\"\":\"\"A...|counter2:1|      null|   2020-10-07|          AR|    23323| AR|23323|    null|       1|     null|\n",
            "|\"{\"\"tracking_date...|\"\"country_code\"\":...|\"\"seller_id\"\":\"\"2...|\"\"seller_sk\"\":\"\"A...|counter2:1|      null|   2020-10-07|          AR|    28121| AR|28121|    null|       1|     null|\n",
            "|\"{\"\"tracking_date...|\"\"country_code\"\":...|\"\"seller_id\"\":\"\"2...|\"\"seller_sk\"\":\"\"A...|counter2:1|      null|   2020-10-07|          AR|    20738| AR|20738|    null|       1|     null|\n",
            "|\"{\"\"tracking_date...|\"\"country_code\"\":...|\"\"seller_id\"\":\"\"6...|\"\"seller_sk\"\":\"\"A...|counter2:1|      null|   2020-10-07|          AR|   673681|AR|673681|    null|       1|     null|\n",
            "|\"{\"\"tracking_date...|\"\"country_code\"\":...|\"\"seller_id\"\":\"\"6...|\"\"seller_sk\"\":\"\"A...|counter2:1|      null|   2020-10-07|          AR|   692032|AR|692032|    null|       1|     null|\n",
            "|\"{\"\"tracking_date...|\"\"country_code\"\":...|\"\"seller_id\"\":\"\"1...|\"\"seller_sk\"\":\"\"A...|counter2:2|      null|   2020-10-07|          AR|    16598| AR|16598|    null|       2|     null|\n",
            "|\"{\"\"tracking_date...|\"\"country_code\"\":...|\"\"seller_id\"\":\"\"2...|\"\"seller_sk\"\":\"\"A...|counter2:1|      null|   2020-10-07|          AR|    20270| AR|20270|    null|       1|     null|\n",
            "|\"{\"\"tracking_date...|\"\"country_code\"\":...|\"\"seller_id\"\":\"\"2...|\"\"seller_sk\"\":\"\"A...|counter2:1|      null|   2020-10-07|          AR|    27631| AR|27631|    null|       1|     null|\n",
            "|\"{\"\"tracking_date...|\"\"country_code\"\":...|\"\"seller_id\"\":\"\"2...|\"\"seller_sk\"\":\"\"A...|counter2:2|      null|   2020-10-07|          AR|    28608| AR|28608|    null|       2|     null|\n",
            "|\"{\"\"tracking_date...|\"\"country_code\"\":...|\"\"seller_id\"\":\"\"2...|\"\"seller_sk\"\":\"\"A...|counter2:2|      null|   2020-10-07|          AR|    21498| AR|21498|    null|       2|     null|\n",
            "|\"{\"\"tracking_date...|\"\"country_code\"\":...|\"\"seller_id\"\":\"\"2...|\"\"seller_sk\"\":\"\"A...|counter2:1|      null|   2020-10-07|          AR|    25992| AR|25992|    null|       1|     null|\n",
            "|\"{\"\"tracking_date...|\"\"country_code\"\":...|\"\"seller_id\"\":\"\"3...|\"\"seller_sk\"\":\"\"A...|counter2:1|      null|   2020-10-07|          AR|   326431|AR|326431|    null|       1|     null|\n",
            "|\"{\"\"tracking_date...|\"\"country_code\"\":...|\"\"seller_id\"\":\"\"6...|\"\"seller_sk\"\":\"\"A...|counter2:1|      null|   2020-10-07|          AR|   670636|AR|670636|    null|       1|     null|\n",
            "|\"{\"\"tracking_date...|\"\"country_code\"\":...|\"\"seller_id\"\":\"\"2...|\"\"seller_sk\"\":\"\"A...|counter2:1|      null|   2020-10-07|          AR|    20303| AR|20303|    null|       1|     null|\n",
            "+--------------------+--------------------+--------------------+--------------------+----------+----------+-------------+------------+---------+---------+--------+--------+---------+\n",
            "only showing top 20 rows\n",
            "\n"
          ],
          "name": "stdout"
        }
      ]
    },
    {
      "cell_type": "code",
      "metadata": {
        "id": "BLktRPf_5C_i",
        "colab": {
          "base_uri": "https://localhost:8080/"
        },
        "outputId": "98d658d8-68db-455e-a55a-ffa61674fc2a"
      },
      "source": [
        "df2 = df2.select('tracking_date','counter1','counter2','counter2a')\n",
        "df2.show()"
      ],
      "execution_count": null,
      "outputs": [
        {
          "output_type": "stream",
          "text": [
            "+-------------+--------+--------+---------+\n",
            "|tracking_date|counter1|counter2|counter2a|\n",
            "+-------------+--------+--------+---------+\n",
            "|   2020-10-07|       1|    null|        1|\n",
            "|   2020-10-07|    null|       1|     null|\n",
            "|   2020-10-07|    null|       1|     null|\n",
            "|   2020-10-07|    null|       1|     null|\n",
            "|   2020-10-07|    null|       1|     null|\n",
            "|   2020-10-07|    null|       2|     null|\n",
            "|   2020-10-07|    null|       1|     null|\n",
            "|   2020-10-07|    null|       1|     null|\n",
            "|   2020-10-07|    null|       1|     null|\n",
            "|   2020-10-07|    null|       1|     null|\n",
            "|   2020-10-07|    null|       1|     null|\n",
            "|   2020-10-07|    null|       2|     null|\n",
            "|   2020-10-07|    null|       1|     null|\n",
            "|   2020-10-07|    null|       1|     null|\n",
            "|   2020-10-07|    null|       2|     null|\n",
            "|   2020-10-07|    null|       2|     null|\n",
            "|   2020-10-07|    null|       1|     null|\n",
            "|   2020-10-07|    null|       1|     null|\n",
            "|   2020-10-07|    null|       1|     null|\n",
            "|   2020-10-07|    null|       1|     null|\n",
            "+-------------+--------+--------+---------+\n",
            "only showing top 20 rows\n",
            "\n"
          ],
          "name": "stdout"
        }
      ]
    },
    {
      "cell_type": "code",
      "metadata": {
        "id": "aEV6fyF-NKSs",
        "colab": {
          "base_uri": "https://localhost:8080/"
        },
        "outputId": "c9730436-039a-4753-d538-5b048726e3c1"
      },
      "source": [
        "from pyspark.sql.types import IntegerType,TimestampType\n",
        "df2 = df2.withColumn(\"tracking_date\", df2[\"tracking_date\"].cast(TimestampType()))\n",
        "df2 = df2.withColumn(\"counter1\", df2[\"counter1\"].cast(IntegerType()))\n",
        "df2 = df2.withColumn(\"counter2\", df2[\"counter2\"].cast(IntegerType()))\n",
        "\n",
        "df2 = df2.withColumn(\"counter2a\", df2[\"counter2a\"].cast(IntegerType()))\n",
        "df2.show()"
      ],
      "execution_count": null,
      "outputs": [
        {
          "output_type": "stream",
          "text": [
            "+-------------------+--------+--------+---------+\n",
            "|      tracking_date|counter1|counter2|counter2a|\n",
            "+-------------------+--------+--------+---------+\n",
            "|2020-10-07 00:00:00|       1|    null|        1|\n",
            "|2020-10-07 00:00:00|    null|       1|     null|\n",
            "|2020-10-07 00:00:00|    null|       1|     null|\n",
            "|2020-10-07 00:00:00|    null|       1|     null|\n",
            "|2020-10-07 00:00:00|    null|       1|     null|\n",
            "|2020-10-07 00:00:00|    null|       2|     null|\n",
            "|2020-10-07 00:00:00|    null|       1|     null|\n",
            "|2020-10-07 00:00:00|    null|       1|     null|\n",
            "|2020-10-07 00:00:00|    null|       1|     null|\n",
            "|2020-10-07 00:00:00|    null|       1|     null|\n",
            "|2020-10-07 00:00:00|    null|       1|     null|\n",
            "|2020-10-07 00:00:00|    null|       2|     null|\n",
            "|2020-10-07 00:00:00|    null|       1|     null|\n",
            "|2020-10-07 00:00:00|    null|       1|     null|\n",
            "|2020-10-07 00:00:00|    null|       2|     null|\n",
            "|2020-10-07 00:00:00|    null|       2|     null|\n",
            "|2020-10-07 00:00:00|    null|       1|     null|\n",
            "|2020-10-07 00:00:00|    null|       1|     null|\n",
            "|2020-10-07 00:00:00|    null|       1|     null|\n",
            "|2020-10-07 00:00:00|    null|       1|     null|\n",
            "+-------------------+--------+--------+---------+\n",
            "only showing top 20 rows\n",
            "\n"
          ],
          "name": "stdout"
        }
      ]
    },
    {
      "cell_type": "code",
      "metadata": {
        "id": "iCgT0trLNplZ"
      },
      "source": [
        "df2 = df2.withColumn(\n",
        "    'counter2',\n",
        "    F.when((F.col(\"counter2\") == 'null'), F.col(\"counter2a\"),).otherwise(F.col(\"counter2a\"))\n",
        ")\n",
        "\n",
        "df2.show()"
      ],
      "execution_count": null,
      "outputs": []
    },
    {
      "cell_type": "code",
      "metadata": {
        "id": "E7hm8h5kGqZL"
      },
      "source": [
        "import pyspark.sql.functions as F\n",
        "from pyspark.sql.types import *\n",
        "def somefunc(value):\n",
        "  if   value < 3: \n",
        "      return 'low'\n",
        "  else:\n",
        "      return 'high'\n",
        "#convert to a UDF Function by passing in the function and return type of function\n",
        "udfsomefunc = F.udf(somefunc, StringType())\n",
        "ratings_with_high_low = ratings.withColumn(\"high_low\", udfsomefunc(\"rating\"))\n",
        "ratings_with_high_low.show()"
      ],
      "execution_count": null,
      "outputs": []
    },
    {
      "cell_type": "code",
      "metadata": {
        "id": "tpgxlCN95MLI",
        "colab": {
          "base_uri": "https://localhost:8080/"
        },
        "outputId": "37dbf258-0fb3-4ee1-eda0-e53a28f4d19c"
      },
      "source": [
        "df2.printSchema()"
      ],
      "execution_count": null,
      "outputs": [
        {
          "output_type": "stream",
          "text": [
            "root\n",
            " |-- tracking_date: string (nullable = true)\n",
            " |-- country_code: string (nullable = true)\n",
            " |-- seller_id: string (nullable = true)\n",
            " |-- seller_sk: string (nullable = true)\n",
            " |-- counter1: string (nullable = true)\n",
            " |-- counter2: string (nullable = true)\n",
            "\n"
          ],
          "name": "stdout"
        }
      ]
    },
    {
      "cell_type": "code",
      "metadata": {
        "id": "TenDSMEF-J2M",
        "colab": {
          "base_uri": "https://localhost:8080/"
        },
        "outputId": "acdcd3af-2bb1-4be2-94a6-ae90f05d8df1"
      },
      "source": [
        "from pyspark.sql.types import IntegerType,TimestampType\n",
        "df2 = df2.withColumn(\"tracking_date\", df2[\"tracking_date\"].cast(TimestampType()))\n",
        "df2 = df2.withColumn(\"seller_id\", df2[\"seller_id\"].cast(IntegerType()))\n",
        "df2 = df2.withColumn(\"seller_sk\", df2[\"seller_sk\"].cast(IntegerType()))\n",
        "\n",
        "df2 = df2.withColumn(\"seller_sk\", df2[\"counter1\"].cast(IntegerType()))\n",
        "df2 = df2.withColumn(\"seller_sk\", df2[\"counter1\"].cast(IntegerType()))\n",
        "df2.show()"
      ],
      "execution_count": null,
      "outputs": [
        {
          "output_type": "stream",
          "text": [
            "+-------------------+------------+---------+---------+--------+--------+\n",
            "|      tracking_date|country_code|seller_id|seller_sk|counter1|counter2|\n",
            "+-------------------+------------+---------+---------+--------+--------+\n",
            "|2020-10-07 00:00:00|          AR|   820417|        1|       1|      1}|\n",
            "|2020-10-07 00:00:00|          AR|    23899|     null|      1}|    null|\n",
            "|2020-10-07 00:00:00|          AR|     3178|     null|      1}|    null|\n",
            "|2020-10-07 00:00:00|          AR|    22247|     null|      1}|    null|\n",
            "|2020-10-07 00:00:00|          AR|     2924|     null|      1}|    null|\n",
            "|2020-10-07 00:00:00|          AR|   820086|     null|      2}|    null|\n",
            "|2020-10-07 00:00:00|          AR|    23323|     null|      1}|    null|\n",
            "|2020-10-07 00:00:00|          AR|    28121|     null|      1}|    null|\n",
            "|2020-10-07 00:00:00|          AR|    20738|     null|      1}|    null|\n",
            "|2020-10-07 00:00:00|          AR|   673681|     null|      1}|    null|\n",
            "|2020-10-07 00:00:00|          AR|   692032|     null|      1}|    null|\n",
            "|2020-10-07 00:00:00|          AR|    16598|     null|      2}|    null|\n",
            "|2020-10-07 00:00:00|          AR|    20270|     null|      1}|    null|\n",
            "|2020-10-07 00:00:00|          AR|    27631|     null|      1}|    null|\n",
            "|2020-10-07 00:00:00|          AR|    28608|     null|      2}|    null|\n",
            "|2020-10-07 00:00:00|          AR|    21498|     null|      2}|    null|\n",
            "|2020-10-07 00:00:00|          AR|    25992|     null|      1}|    null|\n",
            "|2020-10-07 00:00:00|          AR|   326431|     null|      1}|    null|\n",
            "|2020-10-07 00:00:00|          AR|   670636|     null|      1}|    null|\n",
            "|2020-10-07 00:00:00|          AR|    20303|     null|      1}|    null|\n",
            "+-------------------+------------+---------+---------+--------+--------+\n",
            "only showing top 20 rows\n",
            "\n"
          ],
          "name": "stdout"
        }
      ]
    },
    {
      "cell_type": "code",
      "metadata": {
        "id": "FkwET7L5-g-e",
        "colab": {
          "base_uri": "https://localhost:8080/"
        },
        "outputId": "7e849599-3945-4d0c-ad7a-c5d633ecb6ef"
      },
      "source": [
        "df2.printSchema()"
      ],
      "execution_count": null,
      "outputs": [
        {
          "output_type": "stream",
          "text": [
            "root\n",
            " |-- tracking_date: timestamp (nullable = true)\n",
            " |-- country_code: string (nullable = true)\n",
            " |-- seller_id: integer (nullable = true)\n",
            " |-- seller_sk: integer (nullable = true)\n",
            "\n"
          ],
          "name": "stdout"
        }
      ]
    },
    {
      "cell_type": "code",
      "metadata": {
        "id": "srt5r3ijAjpK"
      },
      "source": [
        "df2.write.csv('final.csv')"
      ],
      "execution_count": null,
      "outputs": []
    },
    {
      "cell_type": "code",
      "metadata": {
        "id": "kYmzl6eYAnhn",
        "colab": {
          "base_uri": "https://localhost:8080/"
        },
        "outputId": "a6aaa5fa-51e3-4e8b-960d-3a1cbdb09e90"
      },
      "source": [
        "cases = spark.read.load(\"final.csv\",format=\"csv\", sep=\",\", inferSchema=\"true\", header=\"false\")\n",
        "cases.show()"
      ],
      "execution_count": null,
      "outputs": [
        {
          "output_type": "stream",
          "text": [
            "+-------------------+---+------+------+\n",
            "|                _c0|_c1|   _c2|   _c3|\n",
            "+-------------------+---+------+------+\n",
            "|2020-10-07 00:00:00| AR| 26606| 26606|\n",
            "|2020-10-07 00:00:00| AR| 23899| 23899|\n",
            "|2020-10-07 00:00:00| AR|  3178|  3178|\n",
            "|2020-10-07 00:00:00| AR| 22247| 22247|\n",
            "|2020-10-07 00:00:00| AR|  2924|  2924|\n",
            "|2020-10-07 00:00:00| AR|820086|820086|\n",
            "|2020-10-07 00:00:00| AR| 24914| 24914|\n",
            "+-------------------+---+------+------+\n",
            "\n"
          ],
          "name": "stdout"
        }
      ]
    },
    {
      "cell_type": "code",
      "metadata": {
        "id": "OL-N9me7ABIV",
        "colab": {
          "base_uri": "https://localhost:8080/",
          "height": 279
        },
        "outputId": "4c901acb-ac2e-4133-abe7-6720cc9941b1"
      },
      "source": [
        "df2.createOrRemplaceTempView('people')"
      ],
      "execution_count": null,
      "outputs": [
        {
          "output_type": "error",
          "ename": "AttributeError",
          "evalue": "ignored",
          "traceback": [
            "\u001b[0;31m---------------------------------------------------------------------------\u001b[0m",
            "\u001b[0;31mAttributeError\u001b[0m                            Traceback (most recent call last)",
            "\u001b[0;32m<ipython-input-57-ff85aaa2b3ab>\u001b[0m in \u001b[0;36m<module>\u001b[0;34m()\u001b[0m\n\u001b[0;32m----> 1\u001b[0;31m \u001b[0mdf2\u001b[0m\u001b[0;34m.\u001b[0m\u001b[0mcreateOrRemplaceTempView\u001b[0m\u001b[0;34m(\u001b[0m\u001b[0;34m'people'\u001b[0m\u001b[0;34m)\u001b[0m\u001b[0;34m\u001b[0m\u001b[0;34m\u001b[0m\u001b[0m\n\u001b[0m",
            "\u001b[0;32m/usr/local/lib/python3.6/dist-packages/pyspark/sql/dataframe.py\u001b[0m in \u001b[0;36m__getattr__\u001b[0;34m(self, name)\u001b[0m\n\u001b[1;32m   1399\u001b[0m         \u001b[0;32mif\u001b[0m \u001b[0mname\u001b[0m \u001b[0;32mnot\u001b[0m \u001b[0;32min\u001b[0m \u001b[0mself\u001b[0m\u001b[0;34m.\u001b[0m\u001b[0mcolumns\u001b[0m\u001b[0;34m:\u001b[0m\u001b[0;34m\u001b[0m\u001b[0;34m\u001b[0m\u001b[0m\n\u001b[1;32m   1400\u001b[0m             raise AttributeError(\n\u001b[0;32m-> 1401\u001b[0;31m                 \"'%s' object has no attribute '%s'\" % (self.__class__.__name__, name))\n\u001b[0m\u001b[1;32m   1402\u001b[0m         \u001b[0mjc\u001b[0m \u001b[0;34m=\u001b[0m \u001b[0mself\u001b[0m\u001b[0;34m.\u001b[0m\u001b[0m_jdf\u001b[0m\u001b[0;34m.\u001b[0m\u001b[0mapply\u001b[0m\u001b[0;34m(\u001b[0m\u001b[0mname\u001b[0m\u001b[0;34m)\u001b[0m\u001b[0;34m\u001b[0m\u001b[0;34m\u001b[0m\u001b[0m\n\u001b[1;32m   1403\u001b[0m         \u001b[0;32mreturn\u001b[0m \u001b[0mColumn\u001b[0m\u001b[0;34m(\u001b[0m\u001b[0mjc\u001b[0m\u001b[0;34m)\u001b[0m\u001b[0;34m\u001b[0m\u001b[0;34m\u001b[0m\u001b[0m\n",
            "\u001b[0;31mAttributeError\u001b[0m: 'DataFrame' object has no attribute 'createOrRemplaceTempView'"
          ]
        }
      ]
    },
    {
      "cell_type": "code",
      "metadata": {
        "id": "kuOyu68ScTCj"
      },
      "source": [
        "sql_results = spark.sql(\"SELECT * FROM people\")"
      ],
      "execution_count": null,
      "outputs": []
    },
    {
      "cell_type": "code",
      "metadata": {
        "id": "TYYz_5yjXhi5"
      },
      "source": [
        "sql_results"
      ],
      "execution_count": null,
      "outputs": []
    },
    {
      "cell_type": "code",
      "metadata": {
        "id": "3e2expRPBvK7"
      },
      "source": [
        "df2.toPandas().to_csv('Data_pandas.csv')"
      ],
      "execution_count": null,
      "outputs": []
    },
    {
      "cell_type": "code",
      "metadata": {
        "id": "eUm6m3u3p3KE",
        "colab": {
          "base_uri": "https://localhost:8080/"
        },
        "outputId": "ea9a2ea9-d15a-4c45-b636-7dc3cb96edbc"
      },
      "source": [
        "import pandas as pd\n",
        "df2_pandas=df2.toPandas()\n",
        "df2_pandas=pd.DataFrame(df2_pandas)\n",
        "df2_pandas.dtypes"
      ],
      "execution_count": null,
      "outputs": [
        {
          "output_type": "execute_result",
          "data": {
            "text/plain": [
              "tracking_date    datetime64[ns]\n",
              "country_code             object\n",
              "seller_id                 int32\n",
              "seller_sk                 int32\n",
              "dtype: object"
            ]
          },
          "metadata": {
            "tags": []
          },
          "execution_count": 74
        }
      ]
    },
    {
      "cell_type": "code",
      "metadata": {
        "id": "iVe-u5atB8TA",
        "colab": {
          "base_uri": "https://localhost:8080/",
          "height": 254
        },
        "outputId": "5fbcf0c2-b347-4371-cb07-eeafa5d60da3"
      },
      "source": [
        "df2_pandas"
      ],
      "execution_count": null,
      "outputs": [
        {
          "output_type": "execute_result",
          "data": {
            "text/html": [
              "<div>\n",
              "<style scoped>\n",
              "    .dataframe tbody tr th:only-of-type {\n",
              "        vertical-align: middle;\n",
              "    }\n",
              "\n",
              "    .dataframe tbody tr th {\n",
              "        vertical-align: top;\n",
              "    }\n",
              "\n",
              "    .dataframe thead th {\n",
              "        text-align: right;\n",
              "    }\n",
              "</style>\n",
              "<table border=\"1\" class=\"dataframe\">\n",
              "  <thead>\n",
              "    <tr style=\"text-align: right;\">\n",
              "      <th></th>\n",
              "      <th>tracking_date</th>\n",
              "      <th>country_code</th>\n",
              "      <th>seller_id</th>\n",
              "      <th>seller_sk</th>\n",
              "    </tr>\n",
              "  </thead>\n",
              "  <tbody>\n",
              "    <tr>\n",
              "      <th>0</th>\n",
              "      <td>2020-10-07</td>\n",
              "      <td>AR</td>\n",
              "      <td>26606</td>\n",
              "      <td>26606</td>\n",
              "    </tr>\n",
              "    <tr>\n",
              "      <th>1</th>\n",
              "      <td>2020-10-07</td>\n",
              "      <td>AR</td>\n",
              "      <td>23899</td>\n",
              "      <td>23899</td>\n",
              "    </tr>\n",
              "    <tr>\n",
              "      <th>2</th>\n",
              "      <td>2020-10-07</td>\n",
              "      <td>AR</td>\n",
              "      <td>3178</td>\n",
              "      <td>3178</td>\n",
              "    </tr>\n",
              "    <tr>\n",
              "      <th>3</th>\n",
              "      <td>2020-10-07</td>\n",
              "      <td>AR</td>\n",
              "      <td>22247</td>\n",
              "      <td>22247</td>\n",
              "    </tr>\n",
              "    <tr>\n",
              "      <th>4</th>\n",
              "      <td>2020-10-07</td>\n",
              "      <td>AR</td>\n",
              "      <td>2924</td>\n",
              "      <td>2924</td>\n",
              "    </tr>\n",
              "    <tr>\n",
              "      <th>5</th>\n",
              "      <td>2020-10-07</td>\n",
              "      <td>AR</td>\n",
              "      <td>820086</td>\n",
              "      <td>820086</td>\n",
              "    </tr>\n",
              "    <tr>\n",
              "      <th>6</th>\n",
              "      <td>2020-10-07</td>\n",
              "      <td>AR</td>\n",
              "      <td>24914</td>\n",
              "      <td>24914</td>\n",
              "    </tr>\n",
              "  </tbody>\n",
              "</table>\n",
              "</div>"
            ],
            "text/plain": [
              "  tracking_date country_code  seller_id  seller_sk\n",
              "0    2020-10-07           AR      26606      26606\n",
              "1    2020-10-07           AR      23899      23899\n",
              "2    2020-10-07           AR       3178       3178\n",
              "3    2020-10-07           AR      22247      22247\n",
              "4    2020-10-07           AR       2924       2924\n",
              "5    2020-10-07           AR     820086     820086\n",
              "6    2020-10-07           AR      24914      24914"
            ]
          },
          "metadata": {
            "tags": []
          },
          "execution_count": 75
        }
      ]
    },
    {
      "cell_type": "markdown",
      "metadata": {
        "id": "OwNCiUbup1e0"
      },
      "source": [
        "https://towardsdatascience.com/the-most-complete-guide-to-pyspark-dataframes-2702c343b2e8#844d"
      ]
    },
    {
      "cell_type": "code",
      "metadata": {
        "id": "jh6VN4k05Z1Y"
      },
      "source": [
        "def lower_clean_str(x):\n",
        "  punc='\"'\n",
        "  lowercased_str = x.lower()\n",
        "  for ch in punc:\n",
        "    lowercased_str = lowercased_str.replace(ch, '')\n",
        "  return lowercased_str\n"
      ],
      "execution_count": null,
      "outputs": []
    },
    {
      "cell_type": "code",
      "metadata": {
        "id": "0gqIJHz4n7RZ"
      },
      "source": [
        "cases_pandas['_c0']=cases_pandas['_c0'].map(lower_clean_str)\n",
        "cases_pandas['_c1']=cases_pandas['_c1'].map(lower_clean_str)\n",
        "cases_pandas['_c2']=cases_pandas['_c2'].map(lower_clean_str)\n",
        "cases_pandas['_c3']=cases_pandas['_c3'].map(lower_clean_str)"
      ],
      "execution_count": null,
      "outputs": []
    },
    {
      "cell_type": "code",
      "metadata": {
        "id": "4Iz_IEfF3I6k"
      },
      "source": [
        "df.show"
      ],
      "execution_count": null,
      "outputs": []
    },
    {
      "cell_type": "code",
      "metadata": {
        "id": "hq25nKMJ8Huw"
      },
      "source": [
        "cases.write.csv('mycsv.csv')"
      ],
      "execution_count": null,
      "outputs": []
    },
    {
      "cell_type": "code",
      "metadata": {
        "id": "Sf8pNLTw8q_I"
      },
      "source": [
        ""
      ],
      "execution_count": null,
      "outputs": []
    },
    {
      "cell_type": "code",
      "metadata": {
        "id": "6YyG1IgS8tBV"
      },
      "source": [
        "df=cases.toPandas()"
      ],
      "execution_count": null,
      "outputs": []
    },
    {
      "cell_type": "code",
      "metadata": {
        "id": "H-9_cVUY8zzZ",
        "colab": {
          "base_uri": "https://localhost:8080/",
          "height": 166
        },
        "outputId": "e7336a70-0b47-49f0-bef9-4e9196211570"
      },
      "source": [
        "df.describe()"
      ],
      "execution_count": null,
      "outputs": [
        {
          "output_type": "execute_result",
          "data": {
            "text/html": [
              "<div>\n",
              "<style scoped>\n",
              "    .dataframe tbody tr th:only-of-type {\n",
              "        vertical-align: middle;\n",
              "    }\n",
              "\n",
              "    .dataframe tbody tr th {\n",
              "        vertical-align: top;\n",
              "    }\n",
              "\n",
              "    .dataframe thead th {\n",
              "        text-align: right;\n",
              "    }\n",
              "</style>\n",
              "<table border=\"1\" class=\"dataframe\">\n",
              "  <thead>\n",
              "    <tr style=\"text-align: right;\">\n",
              "      <th></th>\n",
              "      <th>tracking_date</th>\n",
              "      <th>country_code</th>\n",
              "      <th>seller_id</th>\n",
              "      <th>seller_sk</th>\n",
              "    </tr>\n",
              "  </thead>\n",
              "  <tbody>\n",
              "    <tr>\n",
              "      <th>count</th>\n",
              "      <td>7</td>\n",
              "      <td>7</td>\n",
              "      <td>7</td>\n",
              "      <td>7</td>\n",
              "    </tr>\n",
              "    <tr>\n",
              "      <th>unique</th>\n",
              "      <td>1</td>\n",
              "      <td>1</td>\n",
              "      <td>7</td>\n",
              "      <td>7</td>\n",
              "    </tr>\n",
              "    <tr>\n",
              "      <th>top</th>\n",
              "      <td>\"\"2020-10-07\"\"</td>\n",
              "      <td>\"\"AR\"\"</td>\n",
              "      <td>\"\"820086\"\"</td>\n",
              "      <td>\"\"AR|2924\"\"</td>\n",
              "    </tr>\n",
              "    <tr>\n",
              "      <th>freq</th>\n",
              "      <td>7</td>\n",
              "      <td>7</td>\n",
              "      <td>1</td>\n",
              "      <td>1</td>\n",
              "    </tr>\n",
              "  </tbody>\n",
              "</table>\n",
              "</div>"
            ],
            "text/plain": [
              "         tracking_date country_code   seller_id    seller_sk\n",
              "count                7            7           7            7\n",
              "unique               1            1           7            7\n",
              "top     \"\"2020-10-07\"\"       \"\"AR\"\"  \"\"820086\"\"  \"\"AR|2924\"\"\n",
              "freq                 7            7           1            1"
            ]
          },
          "metadata": {
            "tags": []
          },
          "execution_count": 26
        }
      ]
    },
    {
      "cell_type": "code",
      "metadata": {
        "id": "kMAFh25t6EzN"
      },
      "source": [
        "from pyspark.sql.types import StructField,StringType,IntegerType,StructType,TimestampType"
      ],
      "execution_count": null,
      "outputs": []
    },
    {
      "cell_type": "code",
      "metadata": {
        "id": "vOmEU6Fd6IMI"
      },
      "source": [
        "data_schema = [StructField(\"tracking_date\", TimestampType(),True),StructField(\"seller_id\", IntegerType(), True),StructField(\"seller_sk\", IntegerType(), True)]"
      ],
      "execution_count": null,
      "outputs": []
    },
    {
      "cell_type": "code",
      "metadata": {
        "id": "mQ23qVku6bae"
      },
      "source": [
        "final_struc = StructType(fields=data_schema)"
      ],
      "execution_count": null,
      "outputs": []
    },
    {
      "cell_type": "code",
      "metadata": {
        "id": "TmjEBAix76zt"
      },
      "source": [
        ""
      ],
      "execution_count": null,
      "outputs": []
    },
    {
      "cell_type": "markdown",
      "metadata": {
        "id": "1-cLJ-IyqMa_"
      },
      "source": [
        "Change columns"
      ]
    },
    {
      "cell_type": "code",
      "metadata": {
        "id": "Mh9pN8J-tpw7"
      },
      "source": [
        "#import pyspark.sql.functions as f\n",
        "#tracking_date = cases.select(f.split(cases.tracking_date,\":\")).rdd.flatMap(lambda x: x).toDF(schema=[\"col1\",\"tracking_date\"])\n",
        "#tracking_date.show()\n",
        "#df = cases.withColumn(\"tracking_date2\", cases.tracking_date.substr(25,8))\n",
        "#df = df.withColumn(\"country_code2\", df.country_code.substr(20,2))\n",
        "#df.show()"
      ],
      "execution_count": null,
      "outputs": []
    },
    {
      "cell_type": "code",
      "metadata": {
        "id": "KDvuUa6QtlUx"
      },
      "source": [
        ""
      ],
      "execution_count": null,
      "outputs": []
    },
    {
      "cell_type": "code",
      "metadata": {
        "id": "rj1t_ytXurci",
        "colab": {
          "base_uri": "https://localhost:8080/"
        },
        "outputId": "4aa9b1d5-08f7-4130-c420-8cbe5685a2d0"
      },
      "source": [
        "\n"
      ],
      "execution_count": null,
      "outputs": [
        {
          "output_type": "stream",
          "text": [
            "+--------------------+--------------------+--------------------+--------------------+--------------+-------------+\n",
            "|       tracking_date|        country_code|           seller_id|           seller_sk|tracking_date2|country_code2|\n",
            "+--------------------+--------------------+--------------------+--------------------+--------------+-------------+\n",
            "|\"{\"\"tracking_date...|\"\"country_code\"\":...|\"\"seller_id\"\":\"\"2...|\"\"seller_sk\"\":\"\"A...|      20-10-07|           AR|\n",
            "|\"{\"\"tracking_date...|\"\"country_code\"\":...|\"\"seller_id\"\":\"\"2...|\"\"seller_sk\"\":\"\"A...|      20-10-07|           AR|\n",
            "|\"{\"\"tracking_date...|\"\"country_code\"\":...|\"\"seller_id\"\":\"\"3...|\"\"seller_sk\"\":\"\"A...|      20-10-07|           AR|\n",
            "|\"{\"\"tracking_date...|\"\"country_code\"\":...|\"\"seller_id\"\":\"\"2...|\"\"seller_sk\"\":\"\"A...|      20-10-07|           AR|\n",
            "|\"{\"\"tracking_date...|\"\"country_code\"\":...|\"\"seller_id\"\":\"\"2...|\"\"seller_sk\"\":\"\"A...|      20-10-07|           AR|\n",
            "|\"{\"\"tracking_date...|\"\"country_code\"\":...|\"\"seller_id\"\":\"\"8...|\"\"seller_sk\"\":\"\"A...|      20-10-07|           AR|\n",
            "|\"{\"\"tracking_date...|\"\"country_code\"\":...|\"\"seller_id\"\":\"\"2...|\"\"seller_sk\"\":\"\"A...|      20-10-07|           AR|\n",
            "|\"{\"\"tracking_date...|\"\"country_code\"\":...|\"\"seller_id\"\":\"\"2...|\"\"seller_sk\"\":\"\"A...|      20-10-07|           AR|\n",
            "|\"{\"\"tracking_date...|\"\"country_code\"\":...|\"\"seller_id\"\":\"\"2...|\"\"seller_sk\"\":\"\"A...|      20-10-07|           AR|\n",
            "|\"{\"\"tracking_date...|\"\"country_code\"\":...|\"\"seller_id\"\":\"\"6...|\"\"seller_sk\"\":\"\"A...|      20-10-07|           AR|\n",
            "|\"{\"\"tracking_date...|\"\"country_code\"\":...|\"\"seller_id\"\":\"\"6...|\"\"seller_sk\"\":\"\"A...|      20-10-07|           AR|\n",
            "|\"{\"\"tracking_date...|\"\"country_code\"\":...|\"\"seller_id\"\":\"\"1...|\"\"seller_sk\"\":\"\"A...|      20-10-07|           AR|\n",
            "|\"{\"\"tracking_date...|\"\"country_code\"\":...|\"\"seller_id\"\":\"\"2...|\"\"seller_sk\"\":\"\"A...|      20-10-07|           AR|\n",
            "|\"{\"\"tracking_date...|\"\"country_code\"\":...|\"\"seller_id\"\":\"\"2...|\"\"seller_sk\"\":\"\"A...|      20-10-07|           AR|\n",
            "|\"{\"\"tracking_date...|\"\"country_code\"\":...|\"\"seller_id\"\":\"\"2...|\"\"seller_sk\"\":\"\"A...|      20-10-07|           AR|\n",
            "|\"{\"\"tracking_date...|\"\"country_code\"\":...|\"\"seller_id\"\":\"\"2...|\"\"seller_sk\"\":\"\"A...|      20-10-07|           AR|\n",
            "|\"{\"\"tracking_date...|\"\"country_code\"\":...|\"\"seller_id\"\":\"\"2...|\"\"seller_sk\"\":\"\"A...|      20-10-07|           AR|\n",
            "|\"{\"\"tracking_date...|\"\"country_code\"\":...|\"\"seller_id\"\":\"\"3...|\"\"seller_sk\"\":\"\"A...|      20-10-07|           AR|\n",
            "|\"{\"\"tracking_date...|\"\"country_code\"\":...|\"\"seller_id\"\":\"\"6...|\"\"seller_sk\"\":\"\"A...|      20-10-07|           AR|\n",
            "|\"{\"\"tracking_date...|\"\"country_code\"\":...|\"\"seller_id\"\":\"\"2...|\"\"seller_sk\"\":\"\"A...|      20-10-07|           AR|\n",
            "+--------------------+--------------------+--------------------+--------------------+--------------+-------------+\n",
            "only showing top 20 rows\n",
            "\n"
          ],
          "name": "stdout"
        }
      ]
    },
    {
      "cell_type": "code",
      "metadata": {
        "id": "Bp4tpUOujAw2",
        "colab": {
          "base_uri": "https://localhost:8080/"
        },
        "outputId": "92ef8f71-93b1-4036-b08f-204c7ee0523a"
      },
      "source": [
        "df = spark.read.json(\"Properati_3.json\",multiLine = \"true\")\n",
        "df.printSchema()"
      ],
      "execution_count": null,
      "outputs": [
        {
          "output_type": "stream",
          "text": [
            "root\n",
            " |-- {\"tracking_date\":\"2020-10-07\",\"country_code\":\"AR\",\"seller_id\":\"26606\",\"seller_sk\":\"AR|26606\",\"counter2\":\"1\"}: struct (nullable = true)\n",
            " |    |-- 0: string (nullable = true)\n",
            " |    |-- 1: string (nullable = true)\n",
            " |    |-- 2: string (nullable = true)\n",
            " |    |-- 3: string (nullable = true)\n",
            " |    |-- 4: string (nullable = true)\n",
            "\n"
          ],
          "name": "stdout"
        }
      ]
    },
    {
      "cell_type": "code",
      "metadata": {
        "id": "HktzjlfulUF8",
        "colab": {
          "base_uri": "https://localhost:8080/"
        },
        "outputId": "f6c1c2d5-5c7d-4359-aa45-3a7066b934f3"
      },
      "source": [
        "sampleDF = df.withColumnRenamed (\"2\", \"clave\")\n",
        "sampleDF"
      ],
      "execution_count": null,
      "outputs": [
        {
          "output_type": "execute_result",
          "data": {
            "text/plain": [
              "DataFrame[{\"tracking_date\":\"2020-10-07\",\"country_code\":\"AR\",\"seller_id\":\"26606\",\"seller_sk\":\"AR|26606\",\"counter2\":\"1\"}: struct<0:string,1:string,2:string,3:string,4:string>]"
            ]
          },
          "metadata": {
            "tags": []
          },
          "execution_count": 56
        }
      ]
    },
    {
      "cell_type": "code",
      "metadata": {
        "id": "liF8DMzmmas7"
      },
      "source": [
        "batDF = sampleDF.select (\"clave\", \"seller_id\") \n",
        "batDF.printSchema ()"
      ],
      "execution_count": null,
      "outputs": []
    },
    {
      "cell_type": "markdown",
      "metadata": {
        "id": "a18km5-ohPQd"
      },
      "source": [
        "https://kontext.tech/column/spark/284/pyspark-convert-json-string-column-to-array-of-object-structtype-in-data-frame"
      ]
    },
    {
      "cell_type": "code",
      "metadata": {
        "id": "nzWhmJ_FfKZZ"
      },
      "source": [
        "df.printSchema()"
      ],
      "execution_count": null,
      "outputs": []
    },
    {
      "cell_type": "code",
      "metadata": {
        "id": "zrJdxnA8hRA3"
      },
      "source": [
        "import json\n",
        "def parse_json(array_str):\n",
        "json_obj = json.loads(array_str)\n",
        "for item in json_obj:\n",
        "   yield (item[\"a\"], item[\"b\"])"
      ],
      "execution_count": null,
      "outputs": []
    },
    {
      "cell_type": "markdown",
      "metadata": {
        "id": "UbaWMx6BBETp"
      },
      "source": [
        "#### What are the column names?"
      ]
    },
    {
      "cell_type": "code",
      "metadata": {
        "id": "IcL3Nxj1BETq",
        "colab": {
          "base_uri": "https://localhost:8080/"
        },
        "outputId": "2acd99a1-940f-4e67-dc65-c8996351cd36"
      },
      "source": [
        "df.columns"
      ],
      "execution_count": null,
      "outputs": [
        {
          "output_type": "execute_result",
          "data": {
            "text/plain": [
              "['_c0', '_c1', '_c2', '_c3', '_c4']"
            ]
          },
          "metadata": {
            "tags": []
          },
          "execution_count": 18
        }
      ]
    },
    {
      "cell_type": "markdown",
      "metadata": {
        "id": "wgRiP7IVBETw"
      },
      "source": [
        "#### What does the Schema look like?"
      ]
    },
    {
      "cell_type": "code",
      "metadata": {
        "id": "SB8cmPcsBETx",
        "colab": {
          "base_uri": "https://localhost:8080/"
        },
        "outputId": "cce4d20f-1436-4d98-f047-f4512f14be7a"
      },
      "source": [
        "df.printSchema()"
      ],
      "execution_count": null,
      "outputs": [
        {
          "output_type": "stream",
          "text": [
            "root\n",
            " |-- _c0: string (nullable = true)\n",
            " |-- _c1: string (nullable = true)\n",
            " |-- _c2: string (nullable = true)\n",
            " |-- _c3: string (nullable = true)\n",
            " |-- _c4: string (nullable = true)\n",
            "\n"
          ],
          "name": "stdout"
        }
      ]
    },
    {
      "cell_type": "markdown",
      "metadata": {
        "id": "GCWPAVR1BET3"
      },
      "source": [
        "#### Print out the first 5 columns."
      ]
    },
    {
      "cell_type": "code",
      "metadata": {
        "id": "4c3kE7pUBET4",
        "colab": {
          "base_uri": "https://localhost:8080/"
        },
        "outputId": "1b076392-2ab1-45da-c486-45cb7801b89c"
      },
      "source": [
        "# Didn't strictly need a for loop, could have just then head()\n",
        "for row in df.head(5):\n",
        "    print(row)\n",
        "    print('\\n')"
      ],
      "execution_count": null,
      "outputs": [
        {
          "output_type": "stream",
          "text": [
            "Row(_c0='\"{\"\"tracking_date\"\":\"\"2020-10-07\"\"', _c1='\"\"country_code\"\":\"\"AR\"\"', _c2='\"\"seller_id\"\":\"\"26606\"\"', _c3='\"\"seller_sk\"\":\"\"AR|26606\"\"', _c4='\"\"counter2\"\":\"\"1\"\"}\"')\n",
            "\n",
            "\n",
            "Row(_c0='\"{\"\"tracking_date\"\":\"\"2020-10-07\"\"', _c1='\"\"country_code\"\":\"\"AR\"\"', _c2='\"\"seller_id\"\":\"\"23899\"\"', _c3='\"\"seller_sk\"\":\"\"AR|23899\"\"', _c4='\"\"counter2\"\":\"\"1\"\"}\"')\n",
            "\n",
            "\n",
            "Row(_c0='\"{\"\"tracking_date\"\":\"\"2020-10-07\"\"', _c1='\"\"country_code\"\":\"\"AR\"\"', _c2='\"\"seller_id\"\":\"\"3178\"\"', _c3='\"\"seller_sk\"\":\"\"AR|3178\"\"', _c4='\"\"counter2\"\":\"\"1\"\"}\"')\n",
            "\n",
            "\n",
            "Row(_c0='\"{\"\"tracking_date\"\":\"\"2020-10-07\"\"', _c1='\"\"country_code\"\":\"\"AR\"\"', _c2='\"\"seller_id\"\":\"\"22247\"\"', _c3='\"\"seller_sk\"\":\"\"AR|22247\"\"', _c4='\"\"counter2\"\":\"\"1\"\"}\"')\n",
            "\n",
            "\n",
            "Row(_c0='\"{\"\"tracking_date\"\":\"\"2020-10-07\"\"', _c1='\"\"country_code\"\":\"\"AR\"\"', _c2='\"\"seller_id\"\":\"\"2924\"\"', _c3='\"\"seller_sk\"\":\"\"AR|2924\"\"', _c4='\"\"counter2\"\":\"\"1\"\"}\"')\n",
            "\n",
            "\n"
          ],
          "name": "stdout"
        }
      ]
    },
    {
      "cell_type": "markdown",
      "metadata": {
        "id": "h6pmIAfGBET9"
      },
      "source": [
        "#### Use describe() to learn about the DataFrame."
      ]
    },
    {
      "cell_type": "code",
      "metadata": {
        "id": "-VJjZ-28BET-",
        "outputId": "cab2aab4-19ca-462d-c278-3ee55c9eeaf3"
      },
      "source": [
        "df.describe().show()"
      ],
      "execution_count": null,
      "outputs": [
        {
          "output_type": "stream",
          "text": [
            "+-------+------------------+-----------------+-----------------+-----------------+-----------------+-----------------+\n",
            "|summary|              Open|             High|              Low|            Close|           Volume|        Adj Close|\n",
            "+-------+------------------+-----------------+-----------------+-----------------+-----------------+-----------------+\n",
            "|  count|              1258|             1258|             1258|             1258|             1258|             1258|\n",
            "|   mean| 72.35785375357709|72.83938807631165| 71.9186009594594|72.38844998012726|8222093.481717011|67.23883848728146|\n",
            "| stddev|  6.76809024470826|6.768186808159218|6.744075756255496|6.756859163732991|  4519780.8431556|6.722609449996857|\n",
            "|    min|56.389998999999996|        57.060001|        56.299999|        56.419998|          2094900|        50.363689|\n",
            "|    max|         90.800003|        90.970001|            89.25|        90.470001|         80898100|84.91421600000001|\n",
            "+-------+------------------+-----------------+-----------------+-----------------+-----------------+-----------------+\n",
            "\n"
          ],
          "name": "stdout"
        }
      ]
    },
    {
      "cell_type": "code",
      "metadata": {
        "id": "nNu98KzXBEUF",
        "colab": {
          "base_uri": "https://localhost:8080/"
        },
        "outputId": "491a1384-ffb8-4975-8a26-bc8f7d62ead0"
      },
      "source": [
        "# Uh oh Strings! \n",
        "df.describe().printSchema()"
      ],
      "execution_count": null,
      "outputs": [
        {
          "output_type": "stream",
          "text": [
            "root\n",
            " |-- summary: string (nullable = true)\n",
            " |-- _c0: string (nullable = true)\n",
            " |-- _c1: string (nullable = true)\n",
            " |-- _c2: string (nullable = true)\n",
            " |-- _c3: string (nullable = true)\n",
            " |-- _c4: string (nullable = true)\n",
            "\n"
          ],
          "name": "stdout"
        }
      ]
    },
    {
      "cell_type": "code",
      "metadata": {
        "id": "h79sU6s2BEUK"
      },
      "source": [
        "from pyspark.sql.functions import format_number"
      ],
      "execution_count": null,
      "outputs": []
    },
    {
      "cell_type": "code",
      "metadata": {
        "id": "vdKLb-IVBEUP",
        "outputId": "c130d59c-4544-46ff-b15f-1813c025d8e2"
      },
      "source": [
        "from pyspark.sql.functions import format_number\n",
        "result = df.describe()\n",
        "result.select(result['summary'],\n",
        "              format_number(result['Open'].cast('float'),2).alias('Open'),\n",
        "              format_number(result['High'].cast('float'),2).alias('High'),\n",
        "              format_number(result['Low'].cast('float'),2).alias('Low'),\n",
        "              format_number(result['Close'].cast('float'),2).alias('Close'),\n",
        "              result['Volume'].cast('int').alias('Volume')\n",
        "             ).show()"
      ],
      "execution_count": null,
      "outputs": [
        {
          "output_type": "stream",
          "text": [
            "+-------+--------+--------+--------+--------+--------+\n",
            "|summary|    Open|    High|     Low|   Close|  Volume|\n",
            "+-------+--------+--------+--------+--------+--------+\n",
            "|  count|1,258.00|1,258.00|1,258.00|1,258.00|    1258|\n",
            "|   mean|   72.36|   72.84|   71.92|   72.39| 8222093|\n",
            "| stddev|    6.77|    6.77|    6.74|    6.76| 4519781|\n",
            "|    min|   56.39|   57.06|   56.30|   56.42| 2094900|\n",
            "|    max|   90.80|   90.97|   89.25|   90.47|80898100|\n",
            "+-------+--------+--------+--------+--------+--------+\n",
            "\n"
          ],
          "name": "stdout"
        }
      ]
    }
  ]
}